{
  "cells": [
    {
      "cell_type": "markdown",
      "metadata": {
        "id": "view-in-github",
        "colab_type": "text"
      },
      "source": [
        "<a href=\"https://colab.research.google.com/github/Kanchanbhale/Charity-Plugin/blob/main/Charity_Evalution_ipynb_.ipynb\" target=\"_parent\"><img src=\"https://colab.research.google.com/assets/colab-badge.svg\" alt=\"Open In Colab\"/></a>"
      ]
    },
    {
      "cell_type": "markdown",
      "metadata": {
        "id": "I1iPUdYAi3A7"
      },
      "source": [
        "# Python Imports"
      ]
    },
    {
      "cell_type": "code",
      "execution_count": null,
      "metadata": {
        "id": "54bMWpaqi3A9"
      },
      "outputs": [],
      "source": [
        "import pandas as pd                     # for data manipulation and analysis\n",
        "\n",
        "%matplotlib inline\n",
        "import matplotlib.pyplot as plt        # object-oriented API for embedding plots into applications\n",
        "\n",
        "import matplotlib                       \n",
        "import numpy as np                     # used for working with arrays\n",
        "import missingno as msno               # provides a series of visualisations to understand the presence and distribution of missing data within a pandas dataframe\n",
        "import altair as alt                   # statistical visualization library\n",
        "from vega_datasets import data         \n",
        "\n",
        "\n",
        "from sklearn.feature_extraction.text import CountVectorizer\n",
        "from sklearn.feature_extraction.text import TfidfTransformer\n",
        "\n",
        "\n",
        "from sklearn import preprocessing\n",
        "\n",
        "from sklearn.naive_bayes import MultinomialNB\n",
        "from sklearn.ensemble import RandomForestClassifier\n",
        "from sklearn.linear_model import SGDClassifier\n",
        "from sklearn.svm import LinearSVC\n",
        "from sklearn.linear_model import LogisticRegression\n",
        "\n",
        "\n",
        "from sklearn.model_selection import train_test_split\n",
        "from sklearn.pipeline import Pipeline\n",
        "from sklearn.model_selection import GridSearchCV\n",
        "from sklearn.tree import DecisionTreeClassifier\n",
        "from sklearn.metrics import accuracy_score\n",
        "from sklearn.metrics import classification_report, confusion_matrix\n",
        "\n",
        "import re\n",
        "from sklearn.base import BaseEstimator, TransformerMixin\n",
        "import nltk.stem"
      ]
    },
    {
      "cell_type": "markdown",
      "metadata": {
        "id": "ErRxAEcdi3A_"
      },
      "source": [
        "# Data Set"
      ]
    },
    {
      "cell_type": "code",
      "execution_count": null,
      "metadata": {
        "colab": {
          "base_uri": "https://localhost:8080/",
          "height": 354
        },
        "id": "V6DgapH3i3BA",
        "outputId": "8f3d28ff-1ee0-45e1-af67-9e5164710768"
      },
      "outputs": [
        {
          "output_type": "execute_result",
          "data": {
            "text/html": [
              "\n",
              "  <div id=\"df-72fe7147-f5d8-4519-b01a-cae24230b9e6\">\n",
              "    <div class=\"colab-df-container\">\n",
              "      <div>\n",
              "<style scoped>\n",
              "    .dataframe tbody tr th:only-of-type {\n",
              "        vertical-align: middle;\n",
              "    }\n",
              "\n",
              "    .dataframe tbody tr th {\n",
              "        vertical-align: top;\n",
              "    }\n",
              "\n",
              "    .dataframe thead th {\n",
              "        text-align: right;\n",
              "    }\n",
              "</style>\n",
              "<table border=\"1\" class=\"dataframe\">\n",
              "  <thead>\n",
              "    <tr style=\"text-align: right;\">\n",
              "      <th></th>\n",
              "      <th>Unnamed: 0</th>\n",
              "      <th>category</th>\n",
              "      <th>cause</th>\n",
              "      <th>charityid</th>\n",
              "      <th>mission</th>\n",
              "      <th>tagline</th>\n",
              "    </tr>\n",
              "  </thead>\n",
              "  <tbody>\n",
              "    <tr>\n",
              "      <th>0</th>\n",
              "      <td>0</td>\n",
              "      <td>arts culture humanities</td>\n",
              "      <td>museums</td>\n",
              "      <td>9745</td>\n",
              "      <td>the utah museum of contemporary art advances a...</td>\n",
              "      <td>utah premiere venue for contemporary art</td>\n",
              "    </tr>\n",
              "    <tr>\n",
              "      <th>1</th>\n",
              "      <td>1</td>\n",
              "      <td>health</td>\n",
              "      <td>diseases disorders and disciplines</td>\n",
              "      <td>8857</td>\n",
              "      <td>the national mps society exists to find cures ...</td>\n",
              "      <td>support for families research for cure</td>\n",
              "    </tr>\n",
              "    <tr>\n",
              "      <th>2</th>\n",
              "      <td>2</td>\n",
              "      <td>health</td>\n",
              "      <td>patient and family support</td>\n",
              "      <td>14464</td>\n",
              "      <td>the ronald mcdonald house of san francisco rmh...</td>\n",
              "      <td>the house that love built</td>\n",
              "    </tr>\n",
              "    <tr>\n",
              "      <th>3</th>\n",
              "      <td>3</td>\n",
              "      <td>human services</td>\n",
              "      <td>social services</td>\n",
              "      <td>4177</td>\n",
              "      <td>the mission of the national federation of the ...</td>\n",
              "      <td>live the life you want</td>\n",
              "    </tr>\n",
              "    <tr>\n",
              "      <th>4</th>\n",
              "      <td>4</td>\n",
              "      <td>animals</td>\n",
              "      <td>zoos and aquariums</td>\n",
              "      <td>3718</td>\n",
              "      <td>the oldest zoo in texas the fort worth zoo was...</td>\n",
              "      <td>strengthening the bond between humans and the ...</td>\n",
              "    </tr>\n",
              "  </tbody>\n",
              "</table>\n",
              "</div>\n",
              "      <button class=\"colab-df-convert\" onclick=\"convertToInteractive('df-72fe7147-f5d8-4519-b01a-cae24230b9e6')\"\n",
              "              title=\"Convert this dataframe to an interactive table.\"\n",
              "              style=\"display:none;\">\n",
              "        \n",
              "  <svg xmlns=\"http://www.w3.org/2000/svg\" height=\"24px\"viewBox=\"0 0 24 24\"\n",
              "       width=\"24px\">\n",
              "    <path d=\"M0 0h24v24H0V0z\" fill=\"none\"/>\n",
              "    <path d=\"M18.56 5.44l.94 2.06.94-2.06 2.06-.94-2.06-.94-.94-2.06-.94 2.06-2.06.94zm-11 1L8.5 8.5l.94-2.06 2.06-.94-2.06-.94L8.5 2.5l-.94 2.06-2.06.94zm10 10l.94 2.06.94-2.06 2.06-.94-2.06-.94-.94-2.06-.94 2.06-2.06.94z\"/><path d=\"M17.41 7.96l-1.37-1.37c-.4-.4-.92-.59-1.43-.59-.52 0-1.04.2-1.43.59L10.3 9.45l-7.72 7.72c-.78.78-.78 2.05 0 2.83L4 21.41c.39.39.9.59 1.41.59.51 0 1.02-.2 1.41-.59l7.78-7.78 2.81-2.81c.8-.78.8-2.07 0-2.86zM5.41 20L4 18.59l7.72-7.72 1.47 1.35L5.41 20z\"/>\n",
              "  </svg>\n",
              "      </button>\n",
              "      \n",
              "  <style>\n",
              "    .colab-df-container {\n",
              "      display:flex;\n",
              "      flex-wrap:wrap;\n",
              "      gap: 12px;\n",
              "    }\n",
              "\n",
              "    .colab-df-convert {\n",
              "      background-color: #E8F0FE;\n",
              "      border: none;\n",
              "      border-radius: 50%;\n",
              "      cursor: pointer;\n",
              "      display: none;\n",
              "      fill: #1967D2;\n",
              "      height: 32px;\n",
              "      padding: 0 0 0 0;\n",
              "      width: 32px;\n",
              "    }\n",
              "\n",
              "    .colab-df-convert:hover {\n",
              "      background-color: #E2EBFA;\n",
              "      box-shadow: 0px 1px 2px rgba(60, 64, 67, 0.3), 0px 1px 3px 1px rgba(60, 64, 67, 0.15);\n",
              "      fill: #174EA6;\n",
              "    }\n",
              "\n",
              "    [theme=dark] .colab-df-convert {\n",
              "      background-color: #3B4455;\n",
              "      fill: #D2E3FC;\n",
              "    }\n",
              "\n",
              "    [theme=dark] .colab-df-convert:hover {\n",
              "      background-color: #434B5C;\n",
              "      box-shadow: 0px 1px 3px 1px rgba(0, 0, 0, 0.15);\n",
              "      filter: drop-shadow(0px 1px 2px rgba(0, 0, 0, 0.3));\n",
              "      fill: #FFFFFF;\n",
              "    }\n",
              "  </style>\n",
              "\n",
              "      <script>\n",
              "        const buttonEl =\n",
              "          document.querySelector('#df-72fe7147-f5d8-4519-b01a-cae24230b9e6 button.colab-df-convert');\n",
              "        buttonEl.style.display =\n",
              "          google.colab.kernel.accessAllowed ? 'block' : 'none';\n",
              "\n",
              "        async function convertToInteractive(key) {\n",
              "          const element = document.querySelector('#df-72fe7147-f5d8-4519-b01a-cae24230b9e6');\n",
              "          const dataTable =\n",
              "            await google.colab.kernel.invokeFunction('convertToInteractive',\n",
              "                                                     [key], {});\n",
              "          if (!dataTable) return;\n",
              "\n",
              "          const docLinkHtml = 'Like what you see? Visit the ' +\n",
              "            '<a target=\"_blank\" href=https://colab.research.google.com/notebooks/data_table.ipynb>data table notebook</a>'\n",
              "            + ' to learn more about interactive tables.';\n",
              "          element.innerHTML = '';\n",
              "          dataTable['output_type'] = 'display_data';\n",
              "          await google.colab.output.renderOutput(dataTable, element);\n",
              "          const docLink = document.createElement('div');\n",
              "          docLink.innerHTML = docLinkHtml;\n",
              "          element.appendChild(docLink);\n",
              "        }\n",
              "      </script>\n",
              "    </div>\n",
              "  </div>\n",
              "  "
            ],
            "text/plain": [
              "   Unnamed: 0  ...                                            tagline\n",
              "0           0  ...           utah premiere venue for contemporary art\n",
              "1           1  ...             support for families research for cure\n",
              "2           2  ...                          the house that love built\n",
              "3           3  ...                             live the life you want\n",
              "4           4  ...  strengthening the bond between humans and the ...\n",
              "\n",
              "[5 rows x 6 columns]"
            ]
          },
          "metadata": {},
          "execution_count": 63
        }
      ],
      "source": [
        "df = pd.read_csv('charity_navigator.csv.txt')\n",
        "df.head()"
      ]
    },
    {
      "cell_type": "code",
      "execution_count": null,
      "metadata": {
        "colab": {
          "base_uri": "https://localhost:8080/"
        },
        "id": "2Pem1kMdi3BB",
        "outputId": "e7e00e71-f6b2-4f2b-89b4-e6b92d1e6507"
      },
      "outputs": [
        {
          "output_type": "stream",
          "name": "stdout",
          "text": [
            "<class 'pandas.core.frame.DataFrame'>\n",
            "RangeIndex: 9119 entries, 0 to 9118\n",
            "Data columns (total 6 columns):\n",
            " #   Column      Non-Null Count  Dtype \n",
            "---  ------      --------------  ----- \n",
            " 0   Unnamed: 0  9119 non-null   int64 \n",
            " 1   category    9119 non-null   object\n",
            " 2   cause       9119 non-null   object\n",
            " 3   charityid   9119 non-null   int64 \n",
            " 4   mission     8654 non-null   object\n",
            " 5   tagline     8699 non-null   object\n",
            "dtypes: int64(2), object(4)\n",
            "memory usage: 427.6+ KB\n"
          ]
        }
      ],
      "source": [
        "df.info()"
      ]
    },
    {
      "cell_type": "markdown",
      "metadata": {
        "id": "oUOVF17Hi3BC"
      },
      "source": [
        "# Preprocess and Explore Data "
      ]
    },
    {
      "cell_type": "markdown",
      "metadata": {
        "id": "F1XozUbFi3BE"
      },
      "source": [
        "## Uniformative Columns"
      ]
    },
    {
      "cell_type": "code",
      "execution_count": null,
      "metadata": {
        "colab": {
          "base_uri": "https://localhost:8080/",
          "height": 267
        },
        "id": "NOwi0Qu5i3BF",
        "outputId": "947519b2-af5e-49a9-8977-e8720b5ee34e"
      },
      "outputs": [
        {
          "output_type": "stream",
          "name": "stdout",
          "text": [
            "Index(['Unnamed: 0', 'category', 'cause', 'charityid', 'mission', 'tagline'], dtype='object')\n"
          ]
        },
        {
          "output_type": "execute_result",
          "data": {
            "text/html": [
              "\n",
              "  <div id=\"df-2bde655f-814d-488a-b003-b6cf069d91f5\">\n",
              "    <div class=\"colab-df-container\">\n",
              "      <div>\n",
              "<style scoped>\n",
              "    .dataframe tbody tr th:only-of-type {\n",
              "        vertical-align: middle;\n",
              "    }\n",
              "\n",
              "    .dataframe tbody tr th {\n",
              "        vertical-align: top;\n",
              "    }\n",
              "\n",
              "    .dataframe thead th {\n",
              "        text-align: right;\n",
              "    }\n",
              "</style>\n",
              "<table border=\"1\" class=\"dataframe\">\n",
              "  <thead>\n",
              "    <tr style=\"text-align: right;\">\n",
              "      <th></th>\n",
              "      <th>category</th>\n",
              "      <th>cause</th>\n",
              "      <th>mission</th>\n",
              "      <th>tagline</th>\n",
              "    </tr>\n",
              "  </thead>\n",
              "  <tbody>\n",
              "    <tr>\n",
              "      <th>0</th>\n",
              "      <td>arts culture humanities</td>\n",
              "      <td>museums</td>\n",
              "      <td>the utah museum of contemporary art advances a...</td>\n",
              "      <td>utah premiere venue for contemporary art</td>\n",
              "    </tr>\n",
              "    <tr>\n",
              "      <th>1</th>\n",
              "      <td>health</td>\n",
              "      <td>diseases disorders and disciplines</td>\n",
              "      <td>the national mps society exists to find cures ...</td>\n",
              "      <td>support for families research for cure</td>\n",
              "    </tr>\n",
              "    <tr>\n",
              "      <th>2</th>\n",
              "      <td>health</td>\n",
              "      <td>patient and family support</td>\n",
              "      <td>the ronald mcdonald house of san francisco rmh...</td>\n",
              "      <td>the house that love built</td>\n",
              "    </tr>\n",
              "    <tr>\n",
              "      <th>3</th>\n",
              "      <td>human services</td>\n",
              "      <td>social services</td>\n",
              "      <td>the mission of the national federation of the ...</td>\n",
              "      <td>live the life you want</td>\n",
              "    </tr>\n",
              "    <tr>\n",
              "      <th>4</th>\n",
              "      <td>animals</td>\n",
              "      <td>zoos and aquariums</td>\n",
              "      <td>the oldest zoo in texas the fort worth zoo was...</td>\n",
              "      <td>strengthening the bond between humans and the ...</td>\n",
              "    </tr>\n",
              "  </tbody>\n",
              "</table>\n",
              "</div>\n",
              "      <button class=\"colab-df-convert\" onclick=\"convertToInteractive('df-2bde655f-814d-488a-b003-b6cf069d91f5')\"\n",
              "              title=\"Convert this dataframe to an interactive table.\"\n",
              "              style=\"display:none;\">\n",
              "        \n",
              "  <svg xmlns=\"http://www.w3.org/2000/svg\" height=\"24px\"viewBox=\"0 0 24 24\"\n",
              "       width=\"24px\">\n",
              "    <path d=\"M0 0h24v24H0V0z\" fill=\"none\"/>\n",
              "    <path d=\"M18.56 5.44l.94 2.06.94-2.06 2.06-.94-2.06-.94-.94-2.06-.94 2.06-2.06.94zm-11 1L8.5 8.5l.94-2.06 2.06-.94-2.06-.94L8.5 2.5l-.94 2.06-2.06.94zm10 10l.94 2.06.94-2.06 2.06-.94-2.06-.94-.94-2.06-.94 2.06-2.06.94z\"/><path d=\"M17.41 7.96l-1.37-1.37c-.4-.4-.92-.59-1.43-.59-.52 0-1.04.2-1.43.59L10.3 9.45l-7.72 7.72c-.78.78-.78 2.05 0 2.83L4 21.41c.39.39.9.59 1.41.59.51 0 1.02-.2 1.41-.59l7.78-7.78 2.81-2.81c.8-.78.8-2.07 0-2.86zM5.41 20L4 18.59l7.72-7.72 1.47 1.35L5.41 20z\"/>\n",
              "  </svg>\n",
              "      </button>\n",
              "      \n",
              "  <style>\n",
              "    .colab-df-container {\n",
              "      display:flex;\n",
              "      flex-wrap:wrap;\n",
              "      gap: 12px;\n",
              "    }\n",
              "\n",
              "    .colab-df-convert {\n",
              "      background-color: #E8F0FE;\n",
              "      border: none;\n",
              "      border-radius: 50%;\n",
              "      cursor: pointer;\n",
              "      display: none;\n",
              "      fill: #1967D2;\n",
              "      height: 32px;\n",
              "      padding: 0 0 0 0;\n",
              "      width: 32px;\n",
              "    }\n",
              "\n",
              "    .colab-df-convert:hover {\n",
              "      background-color: #E2EBFA;\n",
              "      box-shadow: 0px 1px 2px rgba(60, 64, 67, 0.3), 0px 1px 3px 1px rgba(60, 64, 67, 0.15);\n",
              "      fill: #174EA6;\n",
              "    }\n",
              "\n",
              "    [theme=dark] .colab-df-convert {\n",
              "      background-color: #3B4455;\n",
              "      fill: #D2E3FC;\n",
              "    }\n",
              "\n",
              "    [theme=dark] .colab-df-convert:hover {\n",
              "      background-color: #434B5C;\n",
              "      box-shadow: 0px 1px 3px 1px rgba(0, 0, 0, 0.15);\n",
              "      filter: drop-shadow(0px 1px 2px rgba(0, 0, 0, 0.3));\n",
              "      fill: #FFFFFF;\n",
              "    }\n",
              "  </style>\n",
              "\n",
              "      <script>\n",
              "        const buttonEl =\n",
              "          document.querySelector('#df-2bde655f-814d-488a-b003-b6cf069d91f5 button.colab-df-convert');\n",
              "        buttonEl.style.display =\n",
              "          google.colab.kernel.accessAllowed ? 'block' : 'none';\n",
              "\n",
              "        async function convertToInteractive(key) {\n",
              "          const element = document.querySelector('#df-2bde655f-814d-488a-b003-b6cf069d91f5');\n",
              "          const dataTable =\n",
              "            await google.colab.kernel.invokeFunction('convertToInteractive',\n",
              "                                                     [key], {});\n",
              "          if (!dataTable) return;\n",
              "\n",
              "          const docLinkHtml = 'Like what you see? Visit the ' +\n",
              "            '<a target=\"_blank\" href=https://colab.research.google.com/notebooks/data_table.ipynb>data table notebook</a>'\n",
              "            + ' to learn more about interactive tables.';\n",
              "          element.innerHTML = '';\n",
              "          dataTable['output_type'] = 'display_data';\n",
              "          await google.colab.output.renderOutput(dataTable, element);\n",
              "          const docLink = document.createElement('div');\n",
              "          docLink.innerHTML = docLinkHtml;\n",
              "          element.appendChild(docLink);\n",
              "        }\n",
              "      </script>\n",
              "    </div>\n",
              "  </div>\n",
              "  "
            ],
            "text/plain": [
              "                  category  ...                                            tagline\n",
              "0  arts culture humanities  ...           utah premiere venue for contemporary art\n",
              "1                   health  ...             support for families research for cure\n",
              "2                   health  ...                          the house that love built\n",
              "3           human services  ...                             live the life you want\n",
              "4                  animals  ...  strengthening the bond between humans and the ...\n",
              "\n",
              "[5 rows x 4 columns]"
            ]
          },
          "metadata": {},
          "execution_count": 65
        }
      ],
      "source": [
        "print(df.columns)\n",
        "df.drop(['Unnamed: 0','charityid'], axis=1, inplace=True)     #no. ofcols available and which are dropped \n",
        "df.head()"
      ]
    },
    {
      "cell_type": "code",
      "source": [
        "len(df['cause'].unique())"
      ],
      "metadata": {
        "colab": {
          "base_uri": "https://localhost:8080/"
        },
        "id": "Tf-x2GSwnXb0",
        "outputId": "37417eb0-0b8a-47c0-a4ec-b9fb3d74903a"
      },
      "execution_count": null,
      "outputs": [
        {
          "output_type": "execute_result",
          "data": {
            "text/plain": [
              "37"
            ]
          },
          "metadata": {},
          "execution_count": 66
        }
      ]
    },
    {
      "cell_type": "markdown",
      "metadata": {
        "id": "dKFFVz3ri3BG"
      },
      "source": [
        "## Missing Rows"
      ]
    },
    {
      "cell_type": "markdown",
      "metadata": {
        "id": "OvTJpLLqi3BH"
      },
      "source": [
        "### Visualize Missing Rows"
      ]
    },
    {
      "cell_type": "code",
      "execution_count": null,
      "metadata": {
        "colab": {
          "base_uri": "https://localhost:8080/",
          "height": 515
        },
        "id": "8EWtK3s-i3BI",
        "outputId": "ac395533-d688-41db-fd54-574f46a5ab85"
      },
      "outputs": [
        {
          "output_type": "execute_result",
          "data": {
            "text/plain": [
              "<matplotlib.axes._subplots.AxesSubplot at 0x7f4b9c45be50>"
            ]
          },
          "metadata": {},
          "execution_count": 67
        },
        {
          "output_type": "display_data",
          "data": {
            "image/png": "[encoded data removed]",
            "text/plain": [
              "<Figure size 1800x720 with 2 Axes>"
            ]
          },
          "metadata": {
            "needs_background": "light"
          }
        }
      ],
      "source": [
        "msno.matrix(df)"
      ]
    },
    {
      "cell_type": "markdown",
      "metadata": {
        "id": "f_dnY3QJi3BI"
      },
      "source": [
        "### Drop Missing Rows"
      ]
    },
    {
      "cell_type": "code",
      "execution_count": null,
      "metadata": {
        "colab": {
          "base_uri": "https://localhost:8080/"
        },
        "id": "L_5ygofMi3BJ",
        "outputId": "c6558a74-2104-4c01-ff7d-13cf3d17cdec"
      },
      "outputs": [
        {
          "output_type": "stream",
          "name": "stdout",
          "text": [
            "<class 'pandas.core.frame.DataFrame'>\n",
            "Int64Index: 8638 entries, 0 to 9118\n",
            "Data columns (total 4 columns):\n",
            " #   Column    Non-Null Count  Dtype \n",
            "---  ------    --------------  ----- \n",
            " 0   category  8638 non-null   object\n",
            " 1   cause     8638 non-null   object\n",
            " 2   mission   8638 non-null   object\n",
            " 3   tagline   8638 non-null   object\n",
            "dtypes: object(4)\n",
            "memory usage: 337.4+ KB\n"
          ]
        }
      ],
      "source": [
        "## Drop Empty Rows\n",
        "df.dropna(axis=0, how='any', inplace=True)\n",
        "df.info()"
      ]
    },
    {
      "cell_type": "markdown",
      "metadata": {
        "id": "wD8w4pVIi3BK"
      },
      "source": [
        "## Check Class Balance\n",
        "\n",
        "We can upsample to handle the class imbalance or use an algorithm (e.g.: Tree-based) that is insensitve to the class imbalance."
      ]
    },
    {
      "cell_type": "code",
      "execution_count": null,
      "metadata": {
        "id": "-zzeeZhri3BK"
      },
      "outputs": [],
      "source": [
        "pic = pd.DataFrame(df['category'].value_counts())"
      ]
    },
    {
      "cell_type": "code",
      "execution_count": null,
      "metadata": {
        "id": "nTEQbJEei3BL"
      },
      "outputs": [],
      "source": [
        "pic['name'] = pic.index.values.tolist()"
      ]
    },
    {
      "cell_type": "code",
      "execution_count": null,
      "metadata": {
        "colab": {
          "base_uri": "https://localhost:8080/",
          "height": 394
        },
        "id": "BPpF-R7ei3BL",
        "outputId": "f9922778-5105-407d-ca67-abef5ada9489"
      },
      "outputs": [
        {
          "output_type": "execute_result",
          "data": {
            "text/html": [
              "\n",
              "  <div id=\"df-095d4891-6687-4a54-b857-14c2f4670d2b\">\n",
              "    <div class=\"colab-df-container\">\n",
              "      <div>\n",
              "<style scoped>\n",
              "    .dataframe tbody tr th:only-of-type {\n",
              "        vertical-align: middle;\n",
              "    }\n",
              "\n",
              "    .dataframe tbody tr th {\n",
              "        vertical-align: top;\n",
              "    }\n",
              "\n",
              "    .dataframe thead th {\n",
              "        text-align: right;\n",
              "    }\n",
              "</style>\n",
              "<table border=\"1\" class=\"dataframe\">\n",
              "  <thead>\n",
              "    <tr style=\"text-align: right;\">\n",
              "      <th></th>\n",
              "      <th>category</th>\n",
              "      <th>name</th>\n",
              "    </tr>\n",
              "  </thead>\n",
              "  <tbody>\n",
              "    <tr>\n",
              "      <th>human services</th>\n",
              "      <td>2430</td>\n",
              "      <td>human services</td>\n",
              "    </tr>\n",
              "    <tr>\n",
              "      <th>arts culture humanities</th>\n",
              "      <td>1228</td>\n",
              "      <td>arts culture humanities</td>\n",
              "    </tr>\n",
              "    <tr>\n",
              "      <th>health</th>\n",
              "      <td>894</td>\n",
              "      <td>health</td>\n",
              "    </tr>\n",
              "    <tr>\n",
              "      <th>community development</th>\n",
              "      <td>807</td>\n",
              "      <td>community development</td>\n",
              "    </tr>\n",
              "    <tr>\n",
              "      <th>education</th>\n",
              "      <td>671</td>\n",
              "      <td>education</td>\n",
              "    </tr>\n",
              "    <tr>\n",
              "      <th>international</th>\n",
              "      <td>626</td>\n",
              "      <td>international</td>\n",
              "    </tr>\n",
              "    <tr>\n",
              "      <th>animals</th>\n",
              "      <td>485</td>\n",
              "      <td>animals</td>\n",
              "    </tr>\n",
              "    <tr>\n",
              "      <th>religion</th>\n",
              "      <td>465</td>\n",
              "      <td>religion</td>\n",
              "    </tr>\n",
              "    <tr>\n",
              "      <th>environment</th>\n",
              "      <td>447</td>\n",
              "      <td>environment</td>\n",
              "    </tr>\n",
              "    <tr>\n",
              "      <th>human and civil rights</th>\n",
              "      <td>370</td>\n",
              "      <td>human and civil rights</td>\n",
              "    </tr>\n",
              "    <tr>\n",
              "      <th>research and public policy</th>\n",
              "      <td>215</td>\n",
              "      <td>research and public policy</td>\n",
              "    </tr>\n",
              "  </tbody>\n",
              "</table>\n",
              "</div>\n",
              "      <button class=\"colab-df-convert\" onclick=\"convertToInteractive('df-095d4891-6687-4a54-b857-14c2f4670d2b')\"\n",
              "              title=\"Convert this dataframe to an interactive table.\"\n",
              "              style=\"display:none;\">\n",
              "        \n",
              "  <svg xmlns=\"http://www.w3.org/2000/svg\" height=\"24px\"viewBox=\"0 0 24 24\"\n",
              "       width=\"24px\">\n",
              "    <path d=\"M0 0h24v24H0V0z\" fill=\"none\"/>\n",
              "    <path d=\"M18.56 5.44l.94 2.06.94-2.06 2.06-.94-2.06-.94-.94-2.06-.94 2.06-2.06.94zm-11 1L8.5 8.5l.94-2.06 2.06-.94-2.06-.94L8.5 2.5l-.94 2.06-2.06.94zm10 10l.94 2.06.94-2.06 2.06-.94-2.06-.94-.94-2.06-.94 2.06-2.06.94z\"/><path d=\"M17.41 7.96l-1.37-1.37c-.4-.4-.92-.59-1.43-.59-.52 0-1.04.2-1.43.59L10.3 9.45l-7.72 7.72c-.78.78-.78 2.05 0 2.83L4 21.41c.39.39.9.59 1.41.59.51 0 1.02-.2 1.41-.59l7.78-7.78 2.81-2.81c.8-.78.8-2.07 0-2.86zM5.41 20L4 18.59l7.72-7.72 1.47 1.35L5.41 20z\"/>\n",
              "  </svg>\n",
              "      </button>\n",
              "      \n",
              "  <style>\n",
              "    .colab-df-container {\n",
              "      display:flex;\n",
              "      flex-wrap:wrap;\n",
              "      gap: 12px;\n",
              "    }\n",
              "\n",
              "    .colab-df-convert {\n",
              "      background-color: #E8F0FE;\n",
              "      border: none;\n",
              "      border-radius: 50%;\n",
              "      cursor: pointer;\n",
              "      display: none;\n",
              "      fill: #1967D2;\n",
              "      height: 32px;\n",
              "      padding: 0 0 0 0;\n",
              "      width: 32px;\n",
              "    }\n",
              "\n",
              "    .colab-df-convert:hover {\n",
              "      background-color: #E2EBFA;\n",
              "      box-shadow: 0px 1px 2px rgba(60, 64, 67, 0.3), 0px 1px 3px 1px rgba(60, 64, 67, 0.15);\n",
              "      fill: #174EA6;\n",
              "    }\n",
              "\n",
              "    [theme=dark] .colab-df-convert {\n",
              "      background-color: #3B4455;\n",
              "      fill: #D2E3FC;\n",
              "    }\n",
              "\n",
              "    [theme=dark] .colab-df-convert:hover {\n",
              "      background-color: #434B5C;\n",
              "      box-shadow: 0px 1px 3px 1px rgba(0, 0, 0, 0.15);\n",
              "      filter: drop-shadow(0px 1px 2px rgba(0, 0, 0, 0.3));\n",
              "      fill: #FFFFFF;\n",
              "    }\n",
              "  </style>\n",
              "\n",
              "      <script>\n",
              "        const buttonEl =\n",
              "          document.querySelector('#df-095d4891-6687-4a54-b857-14c2f4670d2b button.colab-df-convert');\n",
              "        buttonEl.style.display =\n",
              "          google.colab.kernel.accessAllowed ? 'block' : 'none';\n",
              "\n",
              "        async function convertToInteractive(key) {\n",
              "          const element = document.querySelector('#df-095d4891-6687-4a54-b857-14c2f4670d2b');\n",
              "          const dataTable =\n",
              "            await google.colab.kernel.invokeFunction('convertToInteractive',\n",
              "                                                     [key], {});\n",
              "          if (!dataTable) return;\n",
              "\n",
              "          const docLinkHtml = 'Like what you see? Visit the ' +\n",
              "            '<a target=\"_blank\" href=https://colab.research.google.com/notebooks/data_table.ipynb>data table notebook</a>'\n",
              "            + ' to learn more about interactive tables.';\n",
              "          element.innerHTML = '';\n",
              "          dataTable['output_type'] = 'display_data';\n",
              "          await google.colab.output.renderOutput(dataTable, element);\n",
              "          const docLink = document.createElement('div');\n",
              "          docLink.innerHTML = docLinkHtml;\n",
              "          element.appendChild(docLink);\n",
              "        }\n",
              "      </script>\n",
              "    </div>\n",
              "  </div>\n",
              "  "
            ],
            "text/plain": [
              "                            category                        name\n",
              "human services                  2430              human services\n",
              "arts culture humanities         1228     arts culture humanities\n",
              "health                           894                      health\n",
              "community development            807       community development\n",
              "education                        671                   education\n",
              "international                    626               international\n",
              "animals                          485                     animals\n",
              "religion                         465                    religion\n",
              "environment                      447                 environment\n",
              "human and civil rights           370      human and civil rights\n",
              "research and public policy       215  research and public policy"
            ]
          },
          "metadata": {},
          "execution_count": 71
        }
      ],
      "source": [
        "pic                  #add visualization in report and ppt"
      ]
    },
    {
      "cell_type": "code",
      "execution_count": null,
      "metadata": {
        "colab": {
          "base_uri": "https://localhost:8080/",
          "height": 263
        },
        "id": "sN3X9Abhi3BM",
        "outputId": "7e127683-bc6c-4442-efc9-7e4085201af0"
      },
      "outputs": [
        {
          "output_type": "execute_result",
          "data": {
            "text/plain": [
              "alt.LayerChart(...)"
            ],
            "text/html": [
              "\n",
              "<div id=\"altair-viz-b1259ff12a604f16982e9d0e1669385e\"></div>\n",
              "<script type=\"text/javascript\">\n",
              "  (function(spec, embedOpt){\n",
              "    let outputDiv = document.currentScript.previousElementSibling;\n",
              "    if (outputDiv.id !== \"altair-viz-b1259ff12a604f16982e9d0e1669385e\") {\n",
              "      outputDiv = document.getElementById(\"altair-viz-b1259ff12a604f16982e9d0e1669385e\");\n",
              "    }\n",
              "    const paths = {\n",
              "      \"vega\": \"https://cdn.jsdelivr.net/npm//vega@5?noext\",\n",
              "      \"vega-lib\": \"https://cdn.jsdelivr.net/npm//vega-lib?noext\",\n",
              "      \"vega-lite\": \"https://cdn.jsdelivr.net/npm//vega-lite@4.8.1?noext\",\n",
              "      \"vega-embed\": \"https://cdn.jsdelivr.net/npm//vega-embed@6?noext\",\n",
              "    };\n",
              "\n",
              "    function loadScript(lib) {\n",
              "      return new Promise(function(resolve, reject) {\n",
              "        var s = document.createElement('script');\n",
              "        s.src = paths[lib];\n",
              "        s.async = true;\n",
              "        s.onload = () => resolve(paths[lib]);\n",
              "        s.onerror = () => reject(`Error loading script: ${paths[lib]}`);\n",
              "        document.getElementsByTagName(\"head\")[0].appendChild(s);\n",
              "      });\n",
              "    }\n",
              "\n",
              "    function showError(err) {\n",
              "      outputDiv.innerHTML = `<div class=\"error\" style=\"color:red;\">${err}</div>`;\n",
              "      throw err;\n",
              "    }\n",
              "\n",
              "    function displayChart(vegaEmbed) {\n",
              "      vegaEmbed(outputDiv, spec, embedOpt)\n",
              "        .catch(err => showError(`Javascript Error: ${err.message}<br>This usually means there's a typo in your chart specification. See the javascript console for the full traceback.`));\n",
              "    }\n",
              "\n",
              "    if(typeof define === \"function\" && define.amd) {\n",
              "      requirejs.config({paths});\n",
              "      require([\"vega-embed\"], displayChart, err => showError(`Error loading script: ${err.message}`));\n",
              "    } else if (typeof vegaEmbed === \"function\") {\n",
              "      displayChart(vegaEmbed);\n",
              "    } else {\n",
              "      loadScript(\"vega\")\n",
              "        .then(() => loadScript(\"vega-lite\"))\n",
              "        .then(() => loadScript(\"vega-embed\"))\n",
              "        .catch(showError)\n",
              "        .then(() => displayChart(vegaEmbed));\n",
              "    }\n",
              "  })({\"config\": {\"view\": {\"continuousWidth\": 400, \"continuousHeight\": 300}}, \"layer\": [{\"mark\": \"bar\", \"encoding\": {\"x\": {\"type\": \"quantitative\", \"field\": \"category\"}, \"y\": {\"type\": \"ordinal\", \"field\": \"name\", \"sort\": {\"field\": \"category\", \"order\": \"ascending\"}}}}, {\"mark\": {\"type\": \"text\", \"align\": \"left\", \"baseline\": \"middle\", \"dx\": 3}, \"encoding\": {\"text\": {\"type\": \"quantitative\", \"field\": \"category\"}, \"x\": {\"type\": \"quantitative\", \"field\": \"category\"}, \"y\": {\"type\": \"ordinal\", \"field\": \"name\", \"sort\": {\"field\": \"category\", \"order\": \"ascending\"}}}}], \"data\": {\"name\": \"data-dc2a56c3f5d5c6156172087c7d310d3c\"}, \"height\": 200, \"$schema\": \"https://vega.github.io/schema/vega-lite/v4.8.1.json\", \"datasets\": {\"data-dc2a56c3f5d5c6156172087c7d310d3c\": [{\"category\": 2430, \"name\": \"human services\"}, {\"category\": 1228, \"name\": \"arts culture humanities\"}, {\"category\": 894, \"name\": \"health\"}, {\"category\": 807, \"name\": \"community development\"}, {\"category\": 671, \"name\": \"education\"}, {\"category\": 626, \"name\": \"international\"}, {\"category\": 485, \"name\": \"animals\"}, {\"category\": 465, \"name\": \"religion\"}, {\"category\": 447, \"name\": \"environment\"}, {\"category\": 370, \"name\": \"human and civil rights\"}, {\"category\": 215, \"name\": \"research and public policy\"}]}}, {\"mode\": \"vega-lite\"});\n",
              "</script>"
            ]
          },
          "metadata": {},
          "execution_count": 72
        }
      ],
      "source": [
        "source = pic\n",
        "\n",
        "bars = alt.Chart(source).mark_bar().encode(\n",
        "     x='category:Q',\n",
        "     y=alt.Y(\n",
        "        \"name:O\",\n",
        "        sort=alt.EncodingSortField(\n",
        "            field=\"category\",  # The field to use for the sort\n",
        "            #op=\"sum\",  # The operation to run on the field prior to sorting\n",
        "            order=\"ascending\"  # The order to sort in\n",
        "        )\n",
        "    )\n",
        ")\n",
        "\n",
        "text = bars.mark_text(\n",
        "    align='left',\n",
        "    baseline='middle',\n",
        "    dx=3  # Nudges text to right so it doesn't appear on top of the bar\n",
        ").encode(\n",
        "    text='category:Q'\n",
        ")\n",
        "\n",
        "(bars + text).properties(height=200)    "
      ]
    },
    {
      "cell_type": "markdown",
      "metadata": {
        "id": "i1cM3jrOi3BN"
      },
      "source": [
        "# Subset Data for Analysis\n",
        "\n",
        "Use a subset of the data for analysis"
      ]
    },
    {
      "cell_type": "code",
      "execution_count": null,
      "metadata": {
        "id": "Tj58DZrUi3BN"
      },
      "outputs": [],
      "source": [
        "target_lst = ['museums', 'united ways' ,'development and relief services',\n",
        "              'advocacy and education','children and family services']"
      ]
    },
    {
      "cell_type": "code",
      "execution_count": null,
      "metadata": {
        "id": "2Tf2CSLLi3BO"
      },
      "outputs": [],
      "source": [
        "df = df.loc[df['cause'].isin(target_lst)]"
      ]
    },
    {
      "cell_type": "markdown",
      "metadata": {
        "toc-hr-collapsed": false,
        "id": "FfEd9xzpi3BO"
      },
      "source": [
        "# Extraction Features"
      ]
    },
    {
      "cell_type": "markdown",
      "metadata": {
        "id": "-vlZO05ci3BP"
      },
      "source": [
        "## Encode Target \n"
      ]
    },
    {
      "cell_type": "code",
      "execution_count": null,
      "metadata": {
        "colab": {
          "base_uri": "https://localhost:8080/"
        },
        "id": "wqlVBmAOi3BP",
        "outputId": "126913f3-b3a9-48d9-a506-6da62dfe658e"
      },
      "outputs": [
        {
          "output_type": "execute_result",
          "data": {
            "text/plain": [
              "3    397\n",
              "4    395\n",
              "2    388\n",
              "0    370\n",
              "1    356\n",
              "Name: target, dtype: int64"
            ]
          },
          "metadata": {},
          "execution_count": 75
        }
      ],
      "source": [
        "target = 'cause'\n",
        "\n",
        "le = preprocessing.LabelEncoder()\n",
        "le.fit(df[target])\n",
        "#print(le.classes_)\n",
        "df['target'] = le.transform(df[target]) \n",
        "df['target'].value_counts()[0:10]"
      ]
    },
    {
      "cell_type": "markdown",
      "metadata": {
        "id": "a7GqZdQFi3BQ"
      },
      "source": [
        "## Apply Custom Analyzer\n",
        "\n",
        "The data set contains many mention to year and organization was founded, which we will not be important for matching news articles. All numbers were remove with regex as a preprocessing step.\n",
        "\n",
        "In addition, many words appear duplicated due to variations on the ending of the word. Endings were stemmed using  Snowball stemming for NLTK package\n",
        "\n",
        "stop : 9514\n",
        "doc freq: 6780\n",
        "remove number: 6486\n",
        "stem : 4388"
      ]
    },
    {
      "cell_type": "markdown",
      "metadata": {
        "id": "al0om4Hpi3BQ"
      },
      "source": [
        "### Aggregate Text Fields"
      ]
    },
    {
      "cell_type": "code",
      "execution_count": null,
      "metadata": {
        "colab": {
          "base_uri": "https://localhost:8080/",
          "height": 206
        },
        "id": "-FQhaPoei3BR",
        "outputId": "307de6fd-2412-48ca-f47b-210eba6c7bcd"
      },
      "outputs": [
        {
          "output_type": "execute_result",
          "data": {
            "text/html": [
              "\n",
              "  <div id=\"df-ed3bc5f8-4477-45cc-bd23-6e4ec5fab0c5\">\n",
              "    <div class=\"colab-df-container\">\n",
              "      <div>\n",
              "<style scoped>\n",
              "    .dataframe tbody tr th:only-of-type {\n",
              "        vertical-align: middle;\n",
              "    }\n",
              "\n",
              "    .dataframe tbody tr th {\n",
              "        vertical-align: top;\n",
              "    }\n",
              "\n",
              "    .dataframe thead th {\n",
              "        text-align: right;\n",
              "    }\n",
              "</style>\n",
              "<table border=\"1\" class=\"dataframe\">\n",
              "  <thead>\n",
              "    <tr style=\"text-align: right;\">\n",
              "      <th></th>\n",
              "      <th>cause</th>\n",
              "      <th>target</th>\n",
              "      <th>corpus</th>\n",
              "    </tr>\n",
              "  </thead>\n",
              "  <tbody>\n",
              "    <tr>\n",
              "      <th>0</th>\n",
              "      <td>museums</td>\n",
              "      <td>3</td>\n",
              "      <td>the utah museum of contemporary art advances a...</td>\n",
              "    </tr>\n",
              "    <tr>\n",
              "      <th>6</th>\n",
              "      <td>development and relief services</td>\n",
              "      <td>2</td>\n",
              "      <td>founded in 1999 the mission of medical mission...</td>\n",
              "    </tr>\n",
              "    <tr>\n",
              "      <th>7</th>\n",
              "      <td>children and family services</td>\n",
              "      <td>1</td>\n",
              "      <td>guided by the wisdom and values of our traditi...</td>\n",
              "    </tr>\n",
              "    <tr>\n",
              "      <th>14</th>\n",
              "      <td>advocacy and education</td>\n",
              "      <td>0</td>\n",
              "      <td>founded in 1971 the national partnership for w...</td>\n",
              "    </tr>\n",
              "    <tr>\n",
              "      <th>18</th>\n",
              "      <td>united ways</td>\n",
              "      <td>4</td>\n",
              "      <td>the united way of monongalia and preston count...</td>\n",
              "    </tr>\n",
              "  </tbody>\n",
              "</table>\n",
              "</div>\n",
              "      <button class=\"colab-df-convert\" onclick=\"convertToInteractive('df-ed3bc5f8-4477-45cc-bd23-6e4ec5fab0c5')\"\n",
              "              title=\"Convert this dataframe to an interactive table.\"\n",
              "              style=\"display:none;\">\n",
              "        \n",
              "  <svg xmlns=\"http://www.w3.org/2000/svg\" height=\"24px\"viewBox=\"0 0 24 24\"\n",
              "       width=\"24px\">\n",
              "    <path d=\"M0 0h24v24H0V0z\" fill=\"none\"/>\n",
              "    <path d=\"M18.56 5.44l.94 2.06.94-2.06 2.06-.94-2.06-.94-.94-2.06-.94 2.06-2.06.94zm-11 1L8.5 8.5l.94-2.06 2.06-.94-2.06-.94L8.5 2.5l-.94 2.06-2.06.94zm10 10l.94 2.06.94-2.06 2.06-.94-2.06-.94-.94-2.06-.94 2.06-2.06.94z\"/><path d=\"M17.41 7.96l-1.37-1.37c-.4-.4-.92-.59-1.43-.59-.52 0-1.04.2-1.43.59L10.3 9.45l-7.72 7.72c-.78.78-.78 2.05 0 2.83L4 21.41c.39.39.9.59 1.41.59.51 0 1.02-.2 1.41-.59l7.78-7.78 2.81-2.81c.8-.78.8-2.07 0-2.86zM5.41 20L4 18.59l7.72-7.72 1.47 1.35L5.41 20z\"/>\n",
              "  </svg>\n",
              "      </button>\n",
              "      \n",
              "  <style>\n",
              "    .colab-df-container {\n",
              "      display:flex;\n",
              "      flex-wrap:wrap;\n",
              "      gap: 12px;\n",
              "    }\n",
              "\n",
              "    .colab-df-convert {\n",
              "      background-color: #E8F0FE;\n",
              "      border: none;\n",
              "      border-radius: 50%;\n",
              "      cursor: pointer;\n",
              "      display: none;\n",
              "      fill: #1967D2;\n",
              "      height: 32px;\n",
              "      padding: 0 0 0 0;\n",
              "      width: 32px;\n",
              "    }\n",
              "\n",
              "    .colab-df-convert:hover {\n",
              "      background-color: #E2EBFA;\n",
              "      box-shadow: 0px 1px 2px rgba(60, 64, 67, 0.3), 0px 1px 3px 1px rgba(60, 64, 67, 0.15);\n",
              "      fill: #174EA6;\n",
              "    }\n",
              "\n",
              "    [theme=dark] .colab-df-convert {\n",
              "      background-color: #3B4455;\n",
              "      fill: #D2E3FC;\n",
              "    }\n",
              "\n",
              "    [theme=dark] .colab-df-convert:hover {\n",
              "      background-color: #434B5C;\n",
              "      box-shadow: 0px 1px 3px 1px rgba(0, 0, 0, 0.15);\n",
              "      filter: drop-shadow(0px 1px 2px rgba(0, 0, 0, 0.3));\n",
              "      fill: #FFFFFF;\n",
              "    }\n",
              "  </style>\n",
              "\n",
              "      <script>\n",
              "        const buttonEl =\n",
              "          document.querySelector('#df-ed3bc5f8-4477-45cc-bd23-6e4ec5fab0c5 button.colab-df-convert');\n",
              "        buttonEl.style.display =\n",
              "          google.colab.kernel.accessAllowed ? 'block' : 'none';\n",
              "\n",
              "        async function convertToInteractive(key) {\n",
              "          const element = document.querySelector('#df-ed3bc5f8-4477-45cc-bd23-6e4ec5fab0c5');\n",
              "          const dataTable =\n",
              "            await google.colab.kernel.invokeFunction('convertToInteractive',\n",
              "                                                     [key], {});\n",
              "          if (!dataTable) return;\n",
              "\n",
              "          const docLinkHtml = 'Like what you see? Visit the ' +\n",
              "            '<a target=\"_blank\" href=https://colab.research.google.com/notebooks/data_table.ipynb>data table notebook</a>'\n",
              "            + ' to learn more about interactive tables.';\n",
              "          element.innerHTML = '';\n",
              "          dataTable['output_type'] = 'display_data';\n",
              "          await google.colab.output.renderOutput(dataTable, element);\n",
              "          const docLink = document.createElement('div');\n",
              "          docLink.innerHTML = docLinkHtml;\n",
              "          element.appendChild(docLink);\n",
              "        }\n",
              "      </script>\n",
              "    </div>\n",
              "  </div>\n",
              "  "
            ],
            "text/plain": [
              "                              cause  ...                                             corpus\n",
              "0                           museums  ...  the utah museum of contemporary art advances a...\n",
              "6   development and relief services  ...  founded in 1999 the mission of medical mission...\n",
              "7      children and family services  ...  guided by the wisdom and values of our traditi...\n",
              "14           advocacy and education  ...  founded in 1971 the national partnership for w...\n",
              "18                      united ways  ...  the united way of monongalia and preston count...\n",
              "\n",
              "[5 rows x 3 columns]"
            ]
          },
          "metadata": {},
          "execution_count": 76
        }
      ],
      "source": [
        "# merge text to create a document\n",
        "df['corpus'] = df.mission + df.tagline + df.category\n",
        "# drop other columns, convenience\n",
        "df.drop(['mission', 'tagline', 'category'], axis=1, inplace=True)\n",
        "\n",
        "df.head()"
      ]
    },
    {
      "cell_type": "code",
      "source": [
        "df.corpus[0]"
      ],
      "metadata": {
        "colab": {
          "base_uri": "https://localhost:8080/",
          "height": 70
        },
        "id": "1BTF26mGHtEN",
        "outputId": "e207c99d-1201-49a1-f40c-10cd1475bddd"
      },
      "execution_count": null,
      "outputs": [
        {
          "output_type": "execute_result",
          "data": {
            "application/vnd.google.colaboratory.intrinsic+json": {
              "type": "string"
            },
            "text/plain": [
              "'the utah museum of contemporary art advances and elevates the community of contemporary arts and culture establishing utah as leading voice for the spirit of innovation experimentation and dialogue surrounding the issues of our timeutah premiere venue for contemporary artarts culture humanities'"
            ]
          },
          "metadata": {},
          "execution_count": 77
        }
      ]
    },
    {
      "cell_type": "code",
      "execution_count": null,
      "metadata": {
        "colab": {
          "base_uri": "https://localhost:8080/"
        },
        "id": "m_C2P2Fki3BR",
        "outputId": "1464f365-bc10-4c79-e846-d59d346ae8d3"
      },
      "outputs": [
        {
          "output_type": "execute_result",
          "data": {
            "text/plain": [
              "(1906, 3)"
            ]
          },
          "metadata": {},
          "execution_count": 78
        }
      ],
      "source": [
        "df.shape"
      ]
    },
    {
      "cell_type": "code",
      "execution_count": null,
      "metadata": {
        "colab": {
          "base_uri": "https://localhost:8080/"
        },
        "id": "dxyWYqDDi3BS",
        "outputId": "41e455fc-b636-424f-dfc2-3d72957f52f6"
      },
      "outputs": [
        {
          "output_type": "stream",
          "name": "stdout",
          "text": [
            "12456\n"
          ]
        },
        {
          "output_type": "stream",
          "name": "stderr",
          "text": [
            "/usr/local/lib/python3.7/dist-packages/sklearn/utils/deprecation.py:87: FutureWarning: Function get_feature_names is deprecated; get_feature_names is deprecated in 1.0 and will be removed in 1.2. Please use get_feature_names_out instead.\n",
            "  warnings.warn(msg, category=FutureWarning)\n"
          ]
        }
      ],
      "source": [
        "vectorizer = CountVectorizer()\n",
        "X = vectorizer.fit_transform(df.corpus)\n",
        "print(len(vectorizer.get_feature_names()))"
      ]
    },
    {
      "cell_type": "code",
      "execution_count": null,
      "metadata": {
        "colab": {
          "base_uri": "https://localhost:8080/"
        },
        "id": "waTUloHXi3BT",
        "outputId": "93a8a435-994b-471f-e144-915763e5db24"
      },
      "outputs": [
        {
          "output_type": "execute_result",
          "data": {
            "text/plain": [
              "(1906, 3)"
            ]
          },
          "metadata": {},
          "execution_count": 80
        }
      ],
      "source": [
        "df.shape"
      ]
    },
    {
      "cell_type": "markdown",
      "metadata": {
        "id": "dxHU1eU9i3BT"
      },
      "source": [
        "### Stem Words and Filter Integers"
      ]
    },
    {
      "cell_type": "code",
      "execution_count": null,
      "metadata": {
        "id": "kjFuCqFvi3BU"
      },
      "outputs": [],
      "source": [
        "# preprocessing step \n",
        "def drop_integers(s):\n",
        "    return re.sub(r'\\d+', '', s)"
      ]
    },
    {
      "cell_type": "code",
      "execution_count": null,
      "metadata": {
        "id": "0SvxKEJni3BU"
      },
      "outputs": [],
      "source": [
        "# stemmer\n",
        "english_stemmer = nltk.stem.SnowballStemmer('english')       #visualization\n",
        "\n",
        "def stemmer(doc):\n",
        "    return [porter_stemmer.stem(w) for w in analyzer(doc)]\n",
        "\n",
        "class StemmedCountVectorizer(CountVectorizer):\n",
        "    def build_analyzer(self):\n",
        "        analyzer = super(StemmedCountVectorizer, self).build_analyzer()\n",
        "        # will need to rewrite if pickled - due to lambda\n",
        "        return lambda doc: ([english_stemmer.stem(w) for w in analyzer(doc)])\n",
        "   "
      ]
    },
    {
      "cell_type": "code",
      "execution_count": null,
      "metadata": {
        "colab": {
          "base_uri": "https://localhost:8080/"
        },
        "id": "bz74NOTNi3BU",
        "outputId": "eb116405-530f-4146-b3d5-dbc447f1306d"
      },
      "outputs": [
        {
          "output_type": "stream",
          "name": "stdout",
          "text": [
            "(1906, 1867)\n",
            "['abandon', 'abil', 'abl', 'abort', 'abroad', 'abus', 'abusehuman', 'academ', 'academi', 'accept', 'access', 'acclaim', 'accomplish', 'accord', 'account', 'accredit', 'accur', 'achiev', 'aclu', 'acquir']\n"
          ]
        },
        {
          "output_type": "stream",
          "name": "stderr",
          "text": [
            "/usr/local/lib/python3.7/dist-packages/sklearn/utils/deprecation.py:87: FutureWarning: Function get_feature_names is deprecated; get_feature_names is deprecated in 1.0 and will be removed in 1.2. Please use get_feature_names_out instead.\n",
            "  warnings.warn(msg, category=FutureWarning)\n"
          ]
        }
      ],
      "source": [
        "vectorizer_s = StemmedCountVectorizer(min_df=5,  preprocessor=drop_integers,\n",
        "                                      analyzer='word', stop_words='english') \n",
        "\n",
        "X = vectorizer_s.fit_transform(df.corpus)\n",
        "print(X.shape)\n",
        "print(vectorizer_s.get_feature_names()[0:20])"
      ]
    },
    {
      "cell_type": "code",
      "execution_count": null,
      "metadata": {
        "colab": {
          "base_uri": "https://localhost:8080/"
        },
        "id": "O2fPnVhei3BV",
        "outputId": "beaedb3a-6e40-4449-bb1e-5ce1e4a1489d"
      },
      "outputs": [
        {
          "output_type": "stream",
          "name": "stdout",
          "text": [
            "(1906, 1867)\n",
            "  (0, 1807)\t0.1541249284587658\n",
            "  (0, 1786)\t0.2267533011623153\n",
            "  (0, 1775)\t0.4769691023979484\n",
            "  (0, 1664)\t0.19650988684357845\n",
            "  (0, 1603)\t0.19506506787097247\n",
            "  (0, 1331)\t0.18108536782820472\n",
            "  (0, 1164)\t0.10003609683356515\n",
            "  (0, 1009)\t0.1302599890735798\n",
            "  (0, 950)\t0.12482613414500161\n",
            "  (0, 917)\t0.13521390822121357\n",
            "  (0, 858)\t0.07682922351657642\n",
            "  (0, 628)\t0.2205993357810796\n",
            "  (0, 598)\t0.13124899241125457\n",
            "  (0, 547)\t0.2434036022307188\n",
            "  (0, 470)\t0.21786933432061167\n",
            "  (0, 408)\t0.1778105901141414\n",
            "  (0, 364)\t0.46520864539121537\n",
            "  (0, 321)\t0.06170245235687211\n",
            "  (0, 112)\t0.17739847719972426\n",
            "  (0, 111)\t0.22546613864971732\n",
            "  (0, 39)\t0.119907083113257\n",
            "  (1, 1854)\t0.18319507138581564\n",
            "  (1, 1776)\t0.19800917495020406\n",
            "  (1, 1774)\t0.13408411214334748\n",
            "  (1, 1758)\t0.178097721501643\n",
            "  :\t:\n",
            "  (1905, 1005)\t0.08583886857036259\n",
            "  (1905, 971)\t0.1590118035975813\n",
            "  (1905, 917)\t0.08080120299115248\n",
            "  (1905, 893)\t0.21800322753312967\n",
            "  (1905, 888)\t0.11682219765635363\n",
            "  (1905, 884)\t0.07421949041715067\n",
            "  (1905, 825)\t0.1087950282809598\n",
            "  (1905, 715)\t0.08047016262825127\n",
            "  (1905, 710)\t0.04856011634981033\n",
            "  (1905, 679)\t0.11493569668829208\n",
            "  (1905, 515)\t0.14545326092080563\n",
            "  (1905, 403)\t0.09605998510740925\n",
            "  (1905, 374)\t0.11066159098029209\n",
            "  (1905, 321)\t0.036872186031209966\n",
            "  (1905, 284)\t0.11413176344350348\n",
            "  (1905, 249)\t0.05971554005359049\n",
            "  (1905, 230)\t0.2603889576090977\n",
            "  (1905, 191)\t0.12024458256835084\n",
            "  (1905, 158)\t0.0897270183358373\n",
            "  (1905, 136)\t0.10654035928450158\n",
            "  (1905, 126)\t0.07588897233416458\n",
            "  (1905, 89)\t0.09324589075953915\n",
            "  (1905, 61)\t0.08997860700897417\n",
            "  (1905, 55)\t0.07459367114180275\n",
            "  (1905, 45)\t0.07446823621958053\n"
          ]
        }
      ],
      "source": [
        "vectorizer = TfidfTransformer()\n",
        "X_tfidf = vectorizer.fit_transform(X)    #add vis. add to results, print words\n",
        "print(X_tfidf.shape)\n",
        "print(X_tfidf)"
      ]
    },
    {
      "cell_type": "markdown",
      "metadata": {
        "id": "sYM3lymyi3BW"
      },
      "source": [
        "# Create Train and Test Sets\n",
        "\n",
        "Dont forget to shuffle the data"
      ]
    },
    {
      "cell_type": "code",
      "execution_count": null,
      "metadata": {
        "id": "2OqM39SVi3BW"
      },
      "outputs": [],
      "source": [
        "seed = 2\n",
        "X_train, X_test, y_train, y_test = train_test_split(df.corpus, df.target,\n",
        "                                                    test_size=0.20,\n",
        "                                                    random_state=seed, \n",
        "                                                    shuffle=True)"
      ]
    },
    {
      "cell_type": "code",
      "source": [
        "X_train"
      ],
      "metadata": {
        "colab": {
          "base_uri": "https://localhost:8080/"
        },
        "id": "1rhGOQQEH6lJ",
        "outputId": "2adc81a3-4ec6-48ba-b1d8-ddd5036ff961"
      },
      "execution_count": null,
      "outputs": [
        {
          "output_type": "execute_result",
          "data": {
            "text/plain": [
              "8519    founded in 2000 common cause education fund cc...\n",
              "1432    after the adoption of their first daughter sha...\n",
              "995     bishop museum mission since founding has been ...\n",
              "3770    the museum of craft and design mcd develops an...\n",
              "7722    united way of aiken county lives by mobilizing...\n",
              "                              ...                        \n",
              "7551    raices refugee immigrant center for education ...\n",
              "7774    agape international missions aim has served in...\n",
              "2542    founded in 1982 by constitutional attorney and...\n",
              "2718    infant crisis services provides life sustainin...\n",
              "5843    founded in 1977 the american committee for the...\n",
              "Name: corpus, Length: 1524, dtype: object"
            ]
          },
          "metadata": {},
          "execution_count": 86
        }
      ]
    },
    {
      "cell_type": "markdown",
      "metadata": {
        "id": "CGOf0EXri3BW"
      },
      "source": [
        "# Define Pipelines"
      ]
    },
    {
      "cell_type": "code",
      "execution_count": null,
      "metadata": {
        "id": "236O0MzJi3BW"
      },
      "outputs": [],
      "source": [
        "NB_pipeline = Pipeline([\n",
        "    ('vect', StemmedCountVectorizer()),\n",
        "    ('tfidf', TfidfTransformer()),\n",
        "    ('clf', MultinomialNB(alpha=0.01)),\n",
        "])\n",
        "\n",
        "LR_pipeline = Pipeline([\n",
        "    ('vect', StemmedCountVectorizer()),\n",
        "    ('tfidf', TfidfTransformer()),\n",
        "    ('clf', LogisticRegression(random_state=0, solver='lbfgs',\n",
        "                               multi_class='multinomial')),\n",
        "])\n",
        "\n",
        "SVC_pipeline = Pipeline([\n",
        "    ('vect', StemmedCountVectorizer()),\n",
        "    ('tfidf', TfidfTransformer()),\n",
        "    ('clf', LinearSVC()),\n",
        "])\n",
        "\n",
        "RF_pipeline = Pipeline([\n",
        "    ('vect', StemmedCountVectorizer()),\n",
        "    ('tfidf', TfidfTransformer()),\n",
        "    ('clf', RandomForestClassifier(n_estimators=100, \n",
        "                                   max_depth=2)),\n",
        "])\n",
        "\n",
        "SGD_pipeline = Pipeline([\n",
        "    ('vect', StemmedCountVectorizer()),\n",
        "    ('tfidf', TfidfTransformer()),\n",
        "    ('clf', SGDClassifier(max_iter=1000, tol=1e-3)),        \n",
        "])"
      ]
    },
    {
      "cell_type": "code",
      "execution_count": null,
      "metadata": {
        "colab": {
          "base_uri": "https://localhost:8080/"
        },
        "id": "MDEzdsoci3BX",
        "outputId": "e58d8b22-778b-430a-fc9e-afe3561c077c"
      },
      "outputs": [
        {
          "output_type": "stream",
          "name": "stdout",
          "text": [
            "Test accuracy is 0.9528795811518325\n",
            "\n",
            " CONFUSION MATRIX\n",
            "[[55  3  1  1  0]\n",
            " [ 0 70  9  0  1]\n",
            " [ 2  0 87  0  1]\n",
            " [ 0  0  0 79  0]\n",
            " [ 0  0  0  0 73]]\n",
            "\n",
            "CLASSIFICATION REPORT\n",
            "              precision    recall  f1-score   support\n",
            "\n",
            "           0       0.96      0.92      0.94        60\n",
            "           1       0.96      0.88      0.92        80\n",
            "           2       0.90      0.97      0.93        90\n",
            "           3       0.99      1.00      0.99        79\n",
            "           4       0.97      1.00      0.99        73\n",
            "\n",
            "    accuracy                           0.95       382\n",
            "   macro avg       0.96      0.95      0.95       382\n",
            "weighted avg       0.95      0.95      0.95       382\n",
            "\n"
          ]
        }
      ],
      "source": [
        "## naive bayes\n",
        "NB_pipeline.fit(X_train, y_train)\n",
        "predictionNB = NB_pipeline.predict(X_test)\n",
        "print('Test accuracy is {}'.format(accuracy_score(y_test, predictionNB)))\n",
        "print('\\n CONFUSION MATRIX')\n",
        "print(confusion_matrix(y_test, predictionNB))\n",
        "print('\\nCLASSIFICATION REPORT')\n",
        "print(classification_report(y_test, predictionNB))\n"
      ]
    },
    {
      "cell_type": "code",
      "source": [
        "predictionNB"
      ],
      "metadata": {
        "colab": {
          "base_uri": "https://localhost:8080/"
        },
        "id": "yKkid-iV1Rta",
        "outputId": "b0abec95-2be4-4fe4-b793-84fe7c9dbe8b"
      },
      "execution_count": null,
      "outputs": [
        {
          "output_type": "execute_result",
          "data": {
            "text/plain": [
              "array([3, 3, 1, 1, 1, 3, 3, 1, 1, 0, 0, 2, 0, 2, 0, 4, 3, 1, 0, 1, 1, 2,\n",
              "       3, 4, 3, 3, 1, 3, 3, 1, 1, 3, 2, 4, 2, 0, 2, 0, 1, 2, 1, 2, 2, 4,\n",
              "       2, 2, 4, 0, 4, 2, 2, 4, 2, 1, 4, 4, 0, 0, 0, 4, 1, 3, 4, 2, 0, 2,\n",
              "       4, 2, 4, 4, 2, 1, 0, 4, 2, 3, 0, 1, 4, 4, 1, 4, 4, 2, 4, 2, 1, 1,\n",
              "       1, 3, 3, 2, 0, 2, 1, 3, 3, 2, 0, 0, 4, 0, 2, 1, 2, 3, 4, 2, 3, 2,\n",
              "       0, 2, 4, 2, 2, 4, 4, 2, 2, 2, 4, 2, 4, 2, 3, 1, 3, 0, 4, 3, 1, 3,\n",
              "       0, 1, 2, 4, 2, 4, 1, 2, 1, 0, 0, 2, 3, 1, 4, 0, 2, 1, 3, 3, 3, 0,\n",
              "       3, 1, 0, 2, 4, 3, 0, 3, 0, 3, 3, 0, 0, 3, 3, 4, 4, 2, 2, 2, 1, 3,\n",
              "       1, 1, 1, 4, 3, 3, 0, 3, 2, 3, 4, 0, 4, 0, 2, 3, 3, 1, 3, 2, 3, 2,\n",
              "       2, 2, 2, 1, 3, 4, 3, 1, 2, 1, 2, 3, 4, 0, 0, 1, 2, 2, 2, 2, 2, 2,\n",
              "       1, 4, 3, 3, 4, 3, 0, 3, 0, 1, 2, 4, 2, 2, 4, 3, 3, 3, 4, 4, 4, 2,\n",
              "       3, 2, 0, 2, 1, 2, 4, 3, 0, 2, 1, 1, 4, 2, 4, 1, 2, 1, 0, 1, 2, 1,\n",
              "       1, 2, 0, 1, 4, 3, 2, 1, 1, 4, 2, 0, 3, 2, 4, 1, 2, 4, 2, 1, 2, 4,\n",
              "       3, 1, 3, 2, 4, 0, 3, 1, 1, 3, 4, 2, 0, 2, 4, 0, 4, 4, 1, 4, 0, 4,\n",
              "       1, 2, 1, 4, 4, 3, 4, 1, 1, 1, 4, 2, 3, 3, 4, 1, 3, 1, 2, 3, 4, 3,\n",
              "       3, 0, 0, 3, 2, 2, 3, 1, 4, 2, 3, 2, 1, 3, 2, 1, 1, 2, 3, 2, 0, 3,\n",
              "       0, 3, 3, 4, 2, 4, 4, 2, 4, 3, 0, 2, 2, 0, 4, 2, 2, 3, 1, 0, 0, 0,\n",
              "       4, 0, 3, 0, 1, 4, 3, 1])"
            ]
          },
          "metadata": {},
          "execution_count": 89
        }
      ]
    },
    {
      "cell_type": "code",
      "execution_count": null,
      "metadata": {
        "colab": {
          "base_uri": "https://localhost:8080/"
        },
        "id": "FIE_n0rri3BX",
        "outputId": "9904bb63-da06-4f9d-b1a0-e3895058bbb0"
      },
      "outputs": [
        {
          "output_type": "stream",
          "name": "stdout",
          "text": [
            "Test accuracy is 0.9581151832460733\n",
            "\n",
            "CONFUSION MATRIX\n",
            "[[59  0  1  0  0]\n",
            " [ 0 68 12  0  0]\n",
            " [ 0  2 87  0  1]\n",
            " [ 0  0  0 79  0]\n",
            " [ 0  0  0  0 73]]\n",
            "\n",
            "CLASSIFICATION REPORT\n",
            "              precision    recall  f1-score   support\n",
            "\n",
            "           0       1.00      0.98      0.99        60\n",
            "           1       0.97      0.85      0.91        80\n",
            "           2       0.87      0.97      0.92        90\n",
            "           3       1.00      1.00      1.00        79\n",
            "           4       0.99      1.00      0.99        73\n",
            "\n",
            "    accuracy                           0.96       382\n",
            "   macro avg       0.97      0.96      0.96       382\n",
            "weighted avg       0.96      0.96      0.96       382\n",
            "\n"
          ]
        }
      ],
      "source": [
        "## Logistic Regression\n",
        "LR_pipeline.fit(X_train, y_train)\n",
        "predictionLR = LR_pipeline.predict(X_test)\n",
        "print('Test accuracy is {}'.format(accuracy_score(y_test,predictionLR)))\n",
        "print('\\nCONFUSION MATRIX')\n",
        "print(confusion_matrix(y_test, predictionLR))\n",
        "print('\\nCLASSIFICATION REPORT')\n",
        "print(classification_report(y_test, predictionLR))\n"
      ]
    },
    {
      "cell_type": "code",
      "execution_count": null,
      "metadata": {
        "colab": {
          "base_uri": "https://localhost:8080/"
        },
        "id": "4aVjQnRzi3BZ",
        "outputId": "493448fc-75fa-43a5-d99c-be870b4525fc"
      },
      "outputs": [
        {
          "output_type": "stream",
          "name": "stdout",
          "text": [
            "Test accuracy is 0.9659685863874345\n",
            "\n",
            "CONFUSION MATRIX\n",
            "[[60  0  0  0  0]\n",
            " [ 0 71  9  0  0]\n",
            " [ 0  3 86  0  1]\n",
            " [ 0  0  0 79  0]\n",
            " [ 0  0  0  0 73]]\n",
            "\n",
            "CLASSIFICATION REPORT\n",
            "              precision    recall  f1-score   support\n",
            "\n",
            "           0       1.00      1.00      1.00        60\n",
            "           1       0.96      0.89      0.92        80\n",
            "           2       0.91      0.96      0.93        90\n",
            "           3       1.00      1.00      1.00        79\n",
            "           4       0.99      1.00      0.99        73\n",
            "\n",
            "    accuracy                           0.97       382\n",
            "   macro avg       0.97      0.97      0.97       382\n",
            "weighted avg       0.97      0.97      0.97       382\n",
            "\n"
          ]
        }
      ],
      "source": [
        "## Suport Vector\n",
        "SVC_pipeline.fit(X_train, y_train)\n",
        "predictionSVC = SVC_pipeline.predict(X_test)\n",
        "print('Test accuracy is {}'.format(accuracy_score(y_test,predictionSVC)))\n",
        "print('\\nCONFUSION MATRIX')\n",
        "print(confusion_matrix(y_test, predictionSVC))\n",
        "print('\\nCLASSIFICATION REPORT')\n",
        "print(classification_report(y_test, predictionSVC))\n"
      ]
    },
    {
      "cell_type": "code",
      "execution_count": null,
      "metadata": {
        "colab": {
          "base_uri": "https://localhost:8080/"
        },
        "id": "pHA3YPVqi3BZ",
        "outputId": "c14754d2-7a8b-4471-ee80-900691f98bda"
      },
      "outputs": [
        {
          "output_type": "stream",
          "name": "stdout",
          "text": [
            "Test accuracy is 0.9659685863874345\n",
            "\n",
            "CONFUSION MATRIX\n",
            "[[59  1  0  0  0]\n",
            " [ 0 72  8  0  0]\n",
            " [ 0  3 86  0  1]\n",
            " [ 0  0  0 79  0]\n",
            " [ 0  0  0  0 73]]\n",
            "\n",
            "CLASSIFICATION REPORT\n",
            "              precision    recall  f1-score   support\n",
            "\n",
            "           0       1.00      0.98      0.99        60\n",
            "           1       0.95      0.90      0.92        80\n",
            "           2       0.91      0.96      0.93        90\n",
            "           3       1.00      1.00      1.00        79\n",
            "           4       0.99      1.00      0.99        73\n",
            "\n",
            "    accuracy                           0.97       382\n",
            "   macro avg       0.97      0.97      0.97       382\n",
            "weighted avg       0.97      0.97      0.97       382\n",
            "\n"
          ]
        }
      ],
      "source": [
        "##Stochastic Gradient Descent\n",
        "SGD_pipeline.fit(X_train,y_train)\n",
        "predictionSGD = SGD_pipeline.predict(X_test)\n",
        "print('Test accuracy is {}'.format(accuracy_score(y_test, predictionSGD)))\n",
        "print('\\nCONFUSION MATRIX')\n",
        "print(confusion_matrix(y_test, predictionSGD))\n",
        "print('\\nCLASSIFICATION REPORT')\n",
        "print(classification_report(y_test, predictionSGD))\n"
      ]
    },
    {
      "cell_type": "code",
      "execution_count": null,
      "metadata": {
        "colab": {
          "base_uri": "https://localhost:8080/"
        },
        "id": "GUM3Ek90i3BZ",
        "outputId": "847ce16e-5e02-47ad-f6f4-8714c8a0047c"
      },
      "outputs": [
        {
          "output_type": "stream",
          "name": "stdout",
          "text": [
            "Test accuracy is 0.7879581151832461\n",
            "\n",
            "CONFUSION MATRIX\n",
            "[[60  0  0  0  0]\n",
            " [11 32 15  2 20]\n",
            " [17  2 57  2 12]\n",
            " [ 0  0  0 79  0]\n",
            " [ 0  0  0  0 73]]\n",
            "\n",
            "CLASSIFICATION REPORT\n",
            "              precision    recall  f1-score   support\n",
            "\n",
            "           0       0.68      1.00      0.81        60\n",
            "           1       0.94      0.40      0.56        80\n",
            "           2       0.79      0.63      0.70        90\n",
            "           3       0.95      1.00      0.98        79\n",
            "           4       0.70      1.00      0.82        73\n",
            "\n",
            "    accuracy                           0.79       382\n",
            "   macro avg       0.81      0.81      0.77       382\n",
            "weighted avg       0.82      0.79      0.77       382\n",
            "\n"
          ]
        }
      ],
      "source": [
        "# random forest\n",
        "RF_pipeline.fit(X_train,y_train)\n",
        "predictionRF = RF_pipeline.predict(X_test)\n",
        "print('Test accuracy is {}'.format(accuracy_score(y_test, predictionRF)))\n",
        "print('\\nCONFUSION MATRIX')\n",
        "print(confusion_matrix(y_test, predictionRF))\n",
        "print('\\nCLASSIFICATION REPORT')\n",
        "print(classification_report(y_test, predictionRF))"
      ]
    },
    {
      "cell_type": "code",
      "execution_count": null,
      "metadata": {
        "colab": {
          "base_uri": "https://localhost:8080/",
          "height": 206
        },
        "id": "Nj9ZB1KYi3Ba",
        "outputId": "279212b4-bd18-4925-ad54-36520b6d2d29"
      },
      "outputs": [
        {
          "output_type": "execute_result",
          "data": {
            "text/html": [
              "\n",
              "  <div id=\"df-e99e1466-ce39-4169-b345-b9e815f27d8b\">\n",
              "    <div class=\"colab-df-container\">\n",
              "      <div>\n",
              "<style scoped>\n",
              "    .dataframe tbody tr th:only-of-type {\n",
              "        vertical-align: middle;\n",
              "    }\n",
              "\n",
              "    .dataframe tbody tr th {\n",
              "        vertical-align: top;\n",
              "    }\n",
              "\n",
              "    .dataframe thead th {\n",
              "        text-align: right;\n",
              "    }\n",
              "</style>\n",
              "<table border=\"1\" class=\"dataframe\">\n",
              "  <thead>\n",
              "    <tr style=\"text-align: right;\">\n",
              "      <th></th>\n",
              "      <th>Algorithm</th>\n",
              "      <th>Accuracy</th>\n",
              "    </tr>\n",
              "  </thead>\n",
              "  <tbody>\n",
              "    <tr>\n",
              "      <th>0</th>\n",
              "      <td>naive_bayes</td>\n",
              "      <td>0.95</td>\n",
              "    </tr>\n",
              "    <tr>\n",
              "      <th>1</th>\n",
              "      <td>logistic_regression</td>\n",
              "      <td>0.96</td>\n",
              "    </tr>\n",
              "    <tr>\n",
              "      <th>2</th>\n",
              "      <td>support_vector</td>\n",
              "      <td>0.96</td>\n",
              "    </tr>\n",
              "    <tr>\n",
              "      <th>3</th>\n",
              "      <td>gradient_descent</td>\n",
              "      <td>0.97</td>\n",
              "    </tr>\n",
              "    <tr>\n",
              "      <th>4</th>\n",
              "      <td>random_forest</td>\n",
              "      <td>0.81</td>\n",
              "    </tr>\n",
              "  </tbody>\n",
              "</table>\n",
              "</div>\n",
              "      <button class=\"colab-df-convert\" onclick=\"convertToInteractive('df-e99e1466-ce39-4169-b345-b9e815f27d8b')\"\n",
              "              title=\"Convert this dataframe to an interactive table.\"\n",
              "              style=\"display:none;\">\n",
              "        \n",
              "  <svg xmlns=\"http://www.w3.org/2000/svg\" height=\"24px\"viewBox=\"0 0 24 24\"\n",
              "       width=\"24px\">\n",
              "    <path d=\"M0 0h24v24H0V0z\" fill=\"none\"/>\n",
              "    <path d=\"M18.56 5.44l.94 2.06.94-2.06 2.06-.94-2.06-.94-.94-2.06-.94 2.06-2.06.94zm-11 1L8.5 8.5l.94-2.06 2.06-.94-2.06-.94L8.5 2.5l-.94 2.06-2.06.94zm10 10l.94 2.06.94-2.06 2.06-.94-2.06-.94-.94-2.06-.94 2.06-2.06.94z\"/><path d=\"M17.41 7.96l-1.37-1.37c-.4-.4-.92-.59-1.43-.59-.52 0-1.04.2-1.43.59L10.3 9.45l-7.72 7.72c-.78.78-.78 2.05 0 2.83L4 21.41c.39.39.9.59 1.41.59.51 0 1.02-.2 1.41-.59l7.78-7.78 2.81-2.81c.8-.78.8-2.07 0-2.86zM5.41 20L4 18.59l7.72-7.72 1.47 1.35L5.41 20z\"/>\n",
              "  </svg>\n",
              "      </button>\n",
              "      \n",
              "  <style>\n",
              "    .colab-df-container {\n",
              "      display:flex;\n",
              "      flex-wrap:wrap;\n",
              "      gap: 12px;\n",
              "    }\n",
              "\n",
              "    .colab-df-convert {\n",
              "      background-color: #E8F0FE;\n",
              "      border: none;\n",
              "      border-radius: 50%;\n",
              "      cursor: pointer;\n",
              "      display: none;\n",
              "      fill: #1967D2;\n",
              "      height: 32px;\n",
              "      padding: 0 0 0 0;\n",
              "      width: 32px;\n",
              "    }\n",
              "\n",
              "    .colab-df-convert:hover {\n",
              "      background-color: #E2EBFA;\n",
              "      box-shadow: 0px 1px 2px rgba(60, 64, 67, 0.3), 0px 1px 3px 1px rgba(60, 64, 67, 0.15);\n",
              "      fill: #174EA6;\n",
              "    }\n",
              "\n",
              "    [theme=dark] .colab-df-convert {\n",
              "      background-color: #3B4455;\n",
              "      fill: #D2E3FC;\n",
              "    }\n",
              "\n",
              "    [theme=dark] .colab-df-convert:hover {\n",
              "      background-color: #434B5C;\n",
              "      box-shadow: 0px 1px 3px 1px rgba(0, 0, 0, 0.15);\n",
              "      filter: drop-shadow(0px 1px 2px rgba(0, 0, 0, 0.3));\n",
              "      fill: #FFFFFF;\n",
              "    }\n",
              "  </style>\n",
              "\n",
              "      <script>\n",
              "        const buttonEl =\n",
              "          document.querySelector('#df-e99e1466-ce39-4169-b345-b9e815f27d8b button.colab-df-convert');\n",
              "        buttonEl.style.display =\n",
              "          google.colab.kernel.accessAllowed ? 'block' : 'none';\n",
              "\n",
              "        async function convertToInteractive(key) {\n",
              "          const element = document.querySelector('#df-e99e1466-ce39-4169-b345-b9e815f27d8b');\n",
              "          const dataTable =\n",
              "            await google.colab.kernel.invokeFunction('convertToInteractive',\n",
              "                                                     [key], {});\n",
              "          if (!dataTable) return;\n",
              "\n",
              "          const docLinkHtml = 'Like what you see? Visit the ' +\n",
              "            '<a target=\"_blank\" href=https://colab.research.google.com/notebooks/data_table.ipynb>data table notebook</a>'\n",
              "            + ' to learn more about interactive tables.';\n",
              "          element.innerHTML = '';\n",
              "          dataTable['output_type'] = 'display_data';\n",
              "          await google.colab.output.renderOutput(dataTable, element);\n",
              "          const docLink = document.createElement('div');\n",
              "          docLink.innerHTML = docLinkHtml;\n",
              "          element.appendChild(docLink);\n",
              "        }\n",
              "      </script>\n",
              "    </div>\n",
              "  </div>\n",
              "  "
            ],
            "text/plain": [
              "             Algorithm  Accuracy\n",
              "0          naive_bayes      0.95\n",
              "1  logistic_regression      0.96\n",
              "2       support_vector      0.96\n",
              "3     gradient_descent      0.97\n",
              "4        random_forest      0.81"
            ]
          },
          "metadata": {},
          "execution_count": 94
        }
      ],
      "source": [
        "results = {'Algorithm': ['naive_bayes', 'logistic_regression','support_vector','gradient_descent','random_forest' ],\n",
        "           'Accuracy': [0.95,0.96,0.96,0.97,0.81] }\n",
        "res_df = pd.DataFrame(results)\n",
        "res_df.head()                       "
      ]
    },
    {
      "cell_type": "code",
      "execution_count": null,
      "metadata": {
        "colab": {
          "base_uri": "https://localhost:8080/"
        },
        "id": "u21dn3Rri3Ba",
        "outputId": "ca40a222-8396-401a-c934-705a1bb50386"
      },
      "outputs": [
        {
          "output_type": "stream",
          "name": "stdout",
          "text": [
            "<class 'pandas.core.frame.DataFrame'>\n",
            "RangeIndex: 5 entries, 0 to 4\n",
            "Data columns (total 2 columns):\n",
            " #   Column     Non-Null Count  Dtype  \n",
            "---  ------     --------------  -----  \n",
            " 0   Algorithm  5 non-null      object \n",
            " 1   Accuracy   5 non-null      float64\n",
            "dtypes: float64(1), object(1)\n",
            "memory usage: 208.0+ bytes\n"
          ]
        }
      ],
      "source": [
        "res_df.info()            "
      ]
    },
    {
      "cell_type": "code",
      "execution_count": null,
      "metadata": {
        "colab": {
          "base_uri": "https://localhost:8080/",
          "height": 263
        },
        "id": "tOCUaWAhi3Ba",
        "outputId": "b9aa158a-866f-43ce-9688-435a0a03ea59"
      },
      "outputs": [
        {
          "output_type": "execute_result",
          "data": {
            "text/plain": [
              "alt.LayerChart(...)"
            ],
            "text/html": [
              "\n",
              "<div id=\"altair-viz-adef7ac425994bf1b21de86569c7503d\"></div>\n",
              "<script type=\"text/javascript\">\n",
              "  (function(spec, embedOpt){\n",
              "    let outputDiv = document.currentScript.previousElementSibling;\n",
              "    if (outputDiv.id !== \"altair-viz-adef7ac425994bf1b21de86569c7503d\") {\n",
              "      outputDiv = document.getElementById(\"altair-viz-adef7ac425994bf1b21de86569c7503d\");\n",
              "    }\n",
              "    const paths = {\n",
              "      \"vega\": \"https://cdn.jsdelivr.net/npm//vega@5?noext\",\n",
              "      \"vega-lib\": \"https://cdn.jsdelivr.net/npm//vega-lib?noext\",\n",
              "      \"vega-lite\": \"https://cdn.jsdelivr.net/npm//vega-lite@4.8.1?noext\",\n",
              "      \"vega-embed\": \"https://cdn.jsdelivr.net/npm//vega-embed@6?noext\",\n",
              "    };\n",
              "\n",
              "    function loadScript(lib) {\n",
              "      return new Promise(function(resolve, reject) {\n",
              "        var s = document.createElement('script');\n",
              "        s.src = paths[lib];\n",
              "        s.async = true;\n",
              "        s.onload = () => resolve(paths[lib]);\n",
              "        s.onerror = () => reject(`Error loading script: ${paths[lib]}`);\n",
              "        document.getElementsByTagName(\"head\")[0].appendChild(s);\n",
              "      });\n",
              "    }\n",
              "\n",
              "    function showError(err) {\n",
              "      outputDiv.innerHTML = `<div class=\"error\" style=\"color:red;\">${err}</div>`;\n",
              "      throw err;\n",
              "    }\n",
              "\n",
              "    function displayChart(vegaEmbed) {\n",
              "      vegaEmbed(outputDiv, spec, embedOpt)\n",
              "        .catch(err => showError(`Javascript Error: ${err.message}<br>This usually means there's a typo in your chart specification. See the javascript console for the full traceback.`));\n",
              "    }\n",
              "\n",
              "    if(typeof define === \"function\" && define.amd) {\n",
              "      requirejs.config({paths});\n",
              "      require([\"vega-embed\"], displayChart, err => showError(`Error loading script: ${err.message}`));\n",
              "    } else if (typeof vegaEmbed === \"function\") {\n",
              "      displayChart(vegaEmbed);\n",
              "    } else {\n",
              "      loadScript(\"vega\")\n",
              "        .then(() => loadScript(\"vega-lite\"))\n",
              "        .then(() => loadScript(\"vega-embed\"))\n",
              "        .catch(showError)\n",
              "        .then(() => displayChart(vegaEmbed));\n",
              "    }\n",
              "  })({\"config\": {\"view\": {\"continuousWidth\": 400, \"continuousHeight\": 300}}, \"layer\": [{\"mark\": \"bar\", \"encoding\": {\"x\": {\"type\": \"quantitative\", \"field\": \"Accuracy\"}, \"y\": {\"type\": \"nominal\", \"field\": \"Algorithm\", \"sort\": {\"field\": \"Accuracy\", \"order\": \"descending\"}}}}, {\"mark\": {\"type\": \"text\", \"align\": \"left\", \"baseline\": \"middle\", \"dx\": 3}, \"encoding\": {\"text\": {\"type\": \"quantitative\", \"field\": \"Accuracy\"}, \"x\": {\"type\": \"quantitative\", \"field\": \"Accuracy\"}, \"y\": {\"type\": \"nominal\", \"field\": \"Algorithm\", \"sort\": {\"field\": \"Accuracy\", \"order\": \"descending\"}}}}], \"data\": {\"name\": \"data-d1d1f54c5a9cf289afa7520610c541a9\"}, \"height\": 200, \"$schema\": \"https://vega.github.io/schema/vega-lite/v4.8.1.json\", \"datasets\": {\"data-d1d1f54c5a9cf289afa7520610c541a9\": [{\"Algorithm\": \"naive_bayes\", \"Accuracy\": 0.95}, {\"Algorithm\": \"logistic_regression\", \"Accuracy\": 0.96}, {\"Algorithm\": \"support_vector\", \"Accuracy\": 0.96}, {\"Algorithm\": \"gradient_descent\", \"Accuracy\": 0.97}, {\"Algorithm\": \"random_forest\", \"Accuracy\": 0.81}]}}, {\"mode\": \"vega-lite\"});\n",
              "</script>"
            ]
          },
          "metadata": {},
          "execution_count": 96
        }
      ],
      "source": [
        "#Data Type\tShorthand Code\tDescription\n",
        "#quantitative\tQ\ta continuous real-valued quantity\n",
        "#ordinal\tO\ta discrete ordered quantity\n",
        "#nominal\tN\ta discrete unordered category\n",
        "#temporal\tT\ta time or date value\n",
        "\n",
        "source = res_df\n",
        "\n",
        "bars = alt.Chart(source).mark_bar().encode(\n",
        "     x='Accuracy:Q',\n",
        "     y=alt.Y(\"Algorithm:N\",\n",
        "             sort=alt.EncodingSortField(\n",
        "                 field=\"Accuracy\",  # The field to use for the sort\n",
        "                 order=\"descending\"  # The order to sort in\n",
        "             )\n",
        "            )\n",
        ")\n",
        "\n",
        "text = bars.mark_text(\n",
        "    align='left',\n",
        "    baseline='middle',\n",
        "    dx=3  # Nudges text to right so it doesn't appear on top of the bar\n",
        ").encode(\n",
        "    text='Accuracy:Q'\n",
        ")\n",
        "\n",
        "(bars + text).properties(height=200)"
      ]
    },
    {
      "cell_type": "markdown",
      "metadata": {
        "id": "nDE_uIFti3Ba"
      },
      "source": [
        "# Configure Grid Search"
      ]
    },
    {
      "cell_type": "markdown",
      "metadata": {
        "id": "hpeLD5Ghi3Ba"
      },
      "source": [
        "## Define Grid Parameters"
      ]
    },
    {
      "cell_type": "code",
      "execution_count": null,
      "metadata": {
        "id": "Mhn8Bofoi3Bb"
      },
      "outputs": [],
      "source": [
        "# Set grid search params\n",
        "param_range = [1, 3]\n",
        "\n",
        "grid_params_mnb = [{\n",
        "    'vect__ngram_range': [(1, 1)],\n",
        "    'clf__fit_prior': (True, False),\n",
        "}] \n",
        "\n",
        "\n",
        "grid_params_svm = [{\n",
        "    'vect__ngram_range': [(1, 1)],\n",
        "    'clf__C': param_range,\n",
        "}]\n",
        "\n",
        "grid_params_sgd = [{\n",
        "    'vect__ngram_range': [(1, 1)],\n",
        "    'clf__penalty': ['l2'],\n",
        "    'clf__loss' : ('hinge'),\n",
        "    'clf__alpha': (1e-2, 1e-3),\n",
        "}]"
      ]
    },
    {
      "cell_type": "markdown",
      "metadata": {
        "toc-hr-collapsed": false,
        "id": "Sil5TmrXi3Bb"
      },
      "source": [
        "## Initialize Grid "
      ]
    },
    {
      "cell_type": "code",
      "execution_count": null,
      "metadata": {
        "colab": {
          "base_uri": "https://localhost:8080/",
          "height": 234
        },
        "id": "8kBcbDSIi3Bb",
        "outputId": "ce6e7747-e90f-49b6-d457-a52946dfaab1"
      },
      "outputs": [
        {
          "output_type": "error",
          "ename": "NameError",
          "evalue": "ignored",
          "traceback": [
            "\u001b[0;31m---------------------------------------------------------------------------\u001b[0m",
            "\u001b[0;31mNameError\u001b[0m                                 Traceback (most recent call last)",
            "\u001b[0;32m<ipython-input-98-d399398bbe63>\u001b[0m in \u001b[0;36m<module>\u001b[0;34m()\u001b[0m\n\u001b[1;32m      2\u001b[0m \u001b[0;34m\u001b[0m\u001b[0m\n\u001b[1;32m      3\u001b[0m gs_mnb = GridSearchCV(\n\u001b[0;32m----> 4\u001b[0;31m     \u001b[0mestimator\u001b[0m\u001b[0;34m=\u001b[0m\u001b[0mpipe_mnb\u001b[0m\u001b[0;34m,\u001b[0m\u001b[0;34m\u001b[0m\u001b[0;34m\u001b[0m\u001b[0m\n\u001b[0m\u001b[1;32m      5\u001b[0m     \u001b[0mparam_grid\u001b[0m\u001b[0;34m=\u001b[0m\u001b[0mgrid_params_mnb\u001b[0m\u001b[0;34m,\u001b[0m\u001b[0;34m\u001b[0m\u001b[0;34m\u001b[0m\u001b[0m\n\u001b[1;32m      6\u001b[0m     \u001b[0mscoring\u001b[0m\u001b[0;34m=\u001b[0m\u001b[0;34m'accuracy'\u001b[0m\u001b[0;34m,\u001b[0m\u001b[0;34m\u001b[0m\u001b[0;34m\u001b[0m\u001b[0m\n",
            "\u001b[0;31mNameError\u001b[0m: name 'pipe_mnb' is not defined"
          ]
        }
      ],
      "source": [
        "# Construct grid objects\n",
        "\n",
        "gs_mnb = GridSearchCV(\n",
        "    estimator=pipe_mnb,\n",
        "    param_grid=grid_params_mnb,\n",
        "    scoring='accuracy',\n",
        "    cv=10) \n",
        "\n",
        "gs_svm = GridSearchCV(\n",
        "    estimator=pipe_svm,\n",
        "    param_grid=grid_params_svm,\n",
        "    scoring='accuracy',\n",
        "    cv=10)\n",
        "\n",
        "gs_sgd = GridSearchCV(\n",
        "    estimator=pipe_sgd,\n",
        "    param_grid=grid_params_sgd,\n",
        "    scoring='accuracy',\n",
        "    cv=10, \n",
        "    n_jobs=jobs)\n",
        "\n",
        "# List of pipelines for ease of iteration\n",
        "#grids = [gs_mnb, gs_svm, gs_sgd]\n",
        "grids = [gs_sgd]\n",
        "\n",
        "# Dictionary of pipelines and classifier types for ease of reference\n",
        "#grid_dict = {0: 'Multinomial Naive Bayes', 1: 'Support Vector Machine', \n",
        "#             2: 'Stocastic Gradient Descent'}\n",
        "\n",
        "grid_dict = {0: 'Stocastic Gradient Descent'}"
      ]
    },
    {
      "cell_type": "markdown",
      "metadata": {
        "id": "mEppxP8_i3Bc"
      },
      "source": [
        "# Build Model and Evaluate Performance "
      ]
    },
    {
      "cell_type": "code",
      "execution_count": null,
      "metadata": {
        "id": "lYcLBSb-i3Bc",
        "colab": {
          "base_uri": "https://localhost:8080/",
          "height": 252
        },
        "outputId": "a27b8208-0342-4c76-e0e3-dab3e0cbf38c"
      },
      "outputs": [
        {
          "output_type": "stream",
          "name": "stdout",
          "text": [
            "Performing model optimizations...\n"
          ]
        },
        {
          "output_type": "error",
          "ename": "NameError",
          "evalue": "ignored",
          "traceback": [
            "\u001b[0;31m---------------------------------------------------------------------------\u001b[0m",
            "\u001b[0;31mNameError\u001b[0m                                 Traceback (most recent call last)",
            "\u001b[0;32m<ipython-input-99-07bd03796620>\u001b[0m in \u001b[0;36m<module>\u001b[0;34m()\u001b[0m\n\u001b[1;32m      7\u001b[0m \u001b[0mbest_clf\u001b[0m \u001b[0;34m=\u001b[0m \u001b[0;36m0\u001b[0m\u001b[0;34m\u001b[0m\u001b[0;34m\u001b[0m\u001b[0m\n\u001b[1;32m      8\u001b[0m \u001b[0mbest_gs\u001b[0m \u001b[0;34m=\u001b[0m \u001b[0;34m''\u001b[0m\u001b[0;34m\u001b[0m\u001b[0;34m\u001b[0m\u001b[0m\n\u001b[0;32m----> 9\u001b[0;31m \u001b[0;32mfor\u001b[0m \u001b[0midx\u001b[0m\u001b[0;34m,\u001b[0m \u001b[0mgs\u001b[0m \u001b[0;32min\u001b[0m \u001b[0menumerate\u001b[0m\u001b[0;34m(\u001b[0m\u001b[0mgrids\u001b[0m\u001b[0;34m)\u001b[0m\u001b[0;34m:\u001b[0m\u001b[0;34m\u001b[0m\u001b[0;34m\u001b[0m\u001b[0m\n\u001b[0m\u001b[1;32m     10\u001b[0m     \u001b[0mprint\u001b[0m\u001b[0;34m(\u001b[0m\u001b[0;34m'\\nEstimator: %s'\u001b[0m \u001b[0;34m%\u001b[0m \u001b[0mgrid_dict\u001b[0m\u001b[0;34m[\u001b[0m\u001b[0midx\u001b[0m\u001b[0;34m]\u001b[0m\u001b[0;34m)\u001b[0m\u001b[0;34m\u001b[0m\u001b[0;34m\u001b[0m\u001b[0m\n\u001b[1;32m     11\u001b[0m     \u001b[0;31m# Fit grid search\u001b[0m\u001b[0;34m\u001b[0m\u001b[0;34m\u001b[0m\u001b[0;34m\u001b[0m\u001b[0m\n",
            "\u001b[0;31mNameError\u001b[0m: name 'grids' is not defined"
          ]
        }
      ],
      "source": [
        "# Fit the grid search objects\n",
        "\n",
        "X_train, X_test, y_train, y_test = train_test_split(df.corpus, df.target, test_size=0.20, random_state=seed)\n",
        "\n",
        "print('Performing model optimizations...')\n",
        "best_acc = 0.0\n",
        "best_clf = 0\n",
        "best_gs = ''\n",
        "for idx, gs in enumerate(grids):\n",
        "    print('\\nEstimator: %s' % grid_dict[idx])\n",
        "    # Fit grid search\n",
        "    gs.fit(X_train, y_train)\n",
        "    # Best params \n",
        "    print('Best params: %s' % gs.best_params_)\n",
        "    # Best training data accuracy\n",
        "    print('Best training accuracy: %.3f' % gs.best_score_)\n",
        "    # Predict on test data with best params\n",
        "    y_pred = gs.predict(X_test)\n",
        "    # Test data accuracy of model with best params\n",
        "    print('Test set accuracy score for best params: %.3f ' % accuracy_score(y_test, y_pred))\n",
        "    # Track best (highest test accuracy) model\n",
        "    if accuracy_score(y_test, y_pred) > best_acc:\n",
        "        best_acc = accuracy_score(y_test, y_pred)\n",
        "        best_gs = gs\n",
        "        best_clf = idx\n",
        "print('\\nClassifier with best test set accuracy: %s' % grid_dict[best_clf])\n",
        "\n",
        "# Save best grid search pipeline to file\n",
        "#dump_file = 'best_gs_pipeline.pkl'\n",
        "#joblib.dump(best_gs, dump_file, compress=1)\n",
        "print('\\nSaved %s grid search pipeline to file: %s' % (grid_dict[best_clf], dump_file))"
      ]
    },
    {
      "cell_type": "markdown",
      "source": [
        "TESTING ARBITRARY ARTICLE "
      ],
      "metadata": {
        "id": "0qTCoKKzn2Su"
      }
    },
    {
      "cell_type": "code",
      "source": [
        "pip install newspaper3k"
      ],
      "metadata": {
        "colab": {
          "base_uri": "https://localhost:8080/"
        },
        "id": "kB9lSog_me5n",
        "outputId": "afca6493-f553-48c2-fb5c-091910d4ba25"
      },
      "execution_count": null,
      "outputs": [
        {
          "output_type": "stream",
          "name": "stdout",
          "text": [
            "Requirement already satisfied: newspaper3k in /usr/local/lib/python3.7/dist-packages (0.2.8)\n",
            "Requirement already satisfied: tldextract>=2.0.1 in /usr/local/lib/python3.7/dist-packages (from newspaper3k) (3.1.2)\n",
            "Requirement already satisfied: PyYAML>=3.11 in /usr/local/lib/python3.7/dist-packages (from newspaper3k) (3.13)\n",
            "Requirement already satisfied: requests>=2.10.0 in /usr/local/lib/python3.7/dist-packages (from newspaper3k) (2.23.0)\n",
            "Requirement already satisfied: feedfinder2>=0.0.4 in /usr/local/lib/python3.7/dist-packages (from newspaper3k) (0.0.4)\n",
            "Requirement already satisfied: nltk>=3.2.1 in /usr/local/lib/python3.7/dist-packages (from newspaper3k) (3.2.5)\n",
            "Requirement already satisfied: tinysegmenter==0.3 in /usr/local/lib/python3.7/dist-packages (from newspaper3k) (0.3)\n",
            "Requirement already satisfied: lxml>=3.6.0 in /usr/local/lib/python3.7/dist-packages (from newspaper3k) (4.2.6)\n",
            "Requirement already satisfied: feedparser>=5.2.1 in /usr/local/lib/python3.7/dist-packages (from newspaper3k) (6.0.8)\n",
            "Requirement already satisfied: jieba3k>=0.35.1 in /usr/local/lib/python3.7/dist-packages (from newspaper3k) (0.35.1)\n",
            "Requirement already satisfied: python-dateutil>=2.5.3 in /usr/local/lib/python3.7/dist-packages (from newspaper3k) (2.8.2)\n",
            "Requirement already satisfied: Pillow>=3.3.0 in /usr/local/lib/python3.7/dist-packages (from newspaper3k) (7.1.2)\n",
            "Requirement already satisfied: cssselect>=0.9.2 in /usr/local/lib/python3.7/dist-packages (from newspaper3k) (1.1.0)\n",
            "Requirement already satisfied: beautifulsoup4>=4.4.1 in /usr/local/lib/python3.7/dist-packages (from newspaper3k) (4.6.3)\n",
            "Requirement already satisfied: six in /usr/local/lib/python3.7/dist-packages (from feedfinder2>=0.0.4->newspaper3k) (1.15.0)\n",
            "Requirement already satisfied: sgmllib3k in /usr/local/lib/python3.7/dist-packages (from feedparser>=5.2.1->newspaper3k) (1.0.0)\n",
            "Requirement already satisfied: idna<3,>=2.5 in /usr/local/lib/python3.7/dist-packages (from requests>=2.10.0->newspaper3k) (2.10)\n",
            "Requirement already satisfied: chardet<4,>=3.0.2 in /usr/local/lib/python3.7/dist-packages (from requests>=2.10.0->newspaper3k) (3.0.4)\n",
            "Requirement already satisfied: urllib3!=1.25.0,!=1.25.1,<1.26,>=1.21.1 in /usr/local/lib/python3.7/dist-packages (from requests>=2.10.0->newspaper3k) (1.24.3)\n",
            "Requirement already satisfied: certifi>=2017.4.17 in /usr/local/lib/python3.7/dist-packages (from requests>=2.10.0->newspaper3k) (2021.10.8)\n",
            "Requirement already satisfied: filelock>=3.0.8 in /usr/local/lib/python3.7/dist-packages (from tldextract>=2.0.1->newspaper3k) (3.4.0)\n",
            "Requirement already satisfied: requests-file>=1.4 in /usr/local/lib/python3.7/dist-packages (from tldextract>=2.0.1->newspaper3k) (1.5.1)\n"
          ]
        }
      ]
    },
    {
      "cell_type": "code",
      "source": [
        "import nltk\n",
        "nltk.download('punkt')\n",
        "from newspaper import Article\n",
        "article = Article('https://timesofindia.indiatimes.com/city/kochi/revenue-from-museum-zoo-crosses-rs-1-crore/articleshow/88673531.cms')\n",
        "article.download()\n",
        "article.parse()\n",
        "article.nlp()"
      ],
      "metadata": {
        "colab": {
          "base_uri": "https://localhost:8080/"
        },
        "id": "ulVlBZQbmfHp",
        "outputId": "49320566-a3f0-4c52-8723-e7444da9957c"
      },
      "execution_count": null,
      "outputs": [
        {
          "output_type": "stream",
          "name": "stdout",
          "text": [
            "[nltk_data] Downloading package punkt to /root/nltk_data...\n",
            "[nltk_data]   Package punkt is already up-to-date!\n"
          ]
        }
      ]
    },
    {
      "cell_type": "code",
      "source": [
        "article.keywords"
      ],
      "metadata": {
        "colab": {
          "base_uri": "https://localhost:8080/"
        },
        "id": "ahCYHbc2mfRE",
        "outputId": "f16ec513-d81b-4c1c-9d82-96953b21b5fe"
      },
      "execution_count": null,
      "outputs": [
        {
          "output_type": "execute_result",
          "data": {
            "text/plain": [
              "['museum',\n",
              " 'collection',\n",
              " 'week',\n",
              " 'visits',\n",
              " 'crore',\n",
              " 'crosses',\n",
              " 'rs',\n",
              " 'zoo',\n",
              " 'parking',\n",
              " 'revenue',\n",
              " 'visitors']"
            ]
          },
          "metadata": {},
          "execution_count": 127
        }
      ]
    },
    {
      "cell_type": "code",
      "source": [
        "article.text"
      ],
      "metadata": {
        "id": "ctjFjQg614_p",
        "colab": {
          "base_uri": "https://localhost:8080/",
          "height": 140
        },
        "outputId": "cc53e2b4-4f63-495a-94b1-15af6902cf01"
      },
      "execution_count": null,
      "outputs": [
        {
          "output_type": "execute_result",
          "data": {
            "application/vnd.google.colaboratory.intrinsic+json": {
              "type": "string"
            },
            "text/plain": [
              "'Thiruvananthapuram: The revenue collection in the museum and zoo , which was badly hit by Covid-19, bounced back to normal with the authorities recording Rs 1 cr collection in two-and-a-half months.Peak turnout during the festive season brought good money for the museum and zoo as the daily collection, which hovered around Rs 1-2 lakh, jumped to Rs 4 lakhs towards the last week of December. The authorities recorded a cumulative collection of Rs 1.01 crore by the end of December.“In 2020, for an entire year we could collect only Rs 1.4 crore. This year, we crossed 1 crore in just around 50 days,” museum and zoo director said Abu S.The revenue collection from parking also increased considerably with many visitors opting for private vehicles and parking of vehicles on museum compounds yielded good revenue. With RKV Road being closed for parking as part of Smart City works, the museum compound was the much sought after parking zone for many visitors.While the city zoo is the favoured spot for visitors, natural history museum and museum gallery also gained from the visits to the city zoo.The zoo and museum were reopened in October. In October last week, the daily collection from the art gallery, the museum and the zoo had picked up from Rs 64,310 to Rs 1,69,075 in less than a week. In November, the collection has more or less been steady between 90,000-1 lakh and there were a few days when it crossed Rs 2.5 lakh and Rs 3 lakh.Group visits from educational institutions had been a major source of revenue for the museum and zoo. Owing to Covid-19, such visits from schools and other states have been completely halted.The renovated natural history museum, which was reopened for public in January 2021, is drawing attention from visitors. The museum was equipped with attractive and informative display systems and the project was completed at a cost of Rs 6 crore.'"
            ]
          },
          "metadata": {},
          "execution_count": 128
        }
      ]
    },
    {
      "cell_type": "code",
      "source": [
        "article.summary"
      ],
      "metadata": {
        "colab": {
          "base_uri": "https://localhost:8080/",
          "height": 140
        },
        "id": "mILdo5hG5-Pt",
        "outputId": "2a1a20b2-0b02-4fba-b94d-547d607ac07a"
      },
      "execution_count": null,
      "outputs": [
        {
          "output_type": "execute_result",
          "data": {
            "application/vnd.google.colaboratory.intrinsic+json": {
              "type": "string"
            },
            "text/plain": [
              "'Thiruvananthapuram: The revenue collection in the museum and zoo , which was badly hit by Covid-19, bounced back to normal with the authorities recording Rs 1 cr collection in two-and-a-half months.Peak turnout during the festive season brought good money for the museum and zoo as the daily collection, which hovered around Rs 1-2 lakh, jumped to Rs 4 lakhs towards the last week of December.\\nThe authorities recorded a cumulative collection of Rs 1.01 crore by the end of December.“In 2020, for an entire year we could collect only Rs 1.4 crore.\\nThis year, we crossed 1 crore in just around 50 days,” museum and zoo director said Abu S.The revenue collection from parking also increased considerably with many visitors opting for private vehicles and parking of vehicles on museum compounds yielded good revenue.\\nIn October last week, the daily collection from the art gallery, the museum and the zoo had picked up from Rs 64,310 to Rs 1,69,075 in less than a week.\\nThe museum was equipped with attractive and informative display systems and the project was completed at a cost of Rs 6 crore.'"
            ]
          },
          "metadata": {},
          "execution_count": 129
        }
      ]
    },
    {
      "cell_type": "markdown",
      "source": [
        "create data frame for sumary, test on clasifier for this one article. "
      ],
      "metadata": {
        "id": "B_v1JDc216EK"
      }
    },
    {
      "cell_type": "code",
      "source": [
        "my_data = np.array([[article.text, '0'], [article.summary, '1'], [article.summary, '2']])\n",
        "test_column_names = ['corpus', 'target']\n",
        "test_df = pd.DataFrame(data=my_data, columns=test_column_names)\n",
        "print(test_df)"
      ],
      "metadata": {
        "id": "b9LnydlQ2Ysg",
        "colab": {
          "base_uri": "https://localhost:8080/"
        },
        "outputId": "0e79df4e-daff-4267-93d8-77f926c3e1bd"
      },
      "execution_count": null,
      "outputs": [
        {
          "output_type": "stream",
          "name": "stdout",
          "text": [
            "                                              corpus target\n",
            "0  Thiruvananthapuram: The revenue collection in ...      0\n",
            "1  Thiruvananthapuram: The revenue collection in ...      1\n",
            "2  Thiruvananthapuram: The revenue collection in ...      2\n"
          ]
        }
      ]
    },
    {
      "cell_type": "code",
      "source": [
        "#library that contains punctuation\n",
        "import string\n",
        "string.punctuation"
      ],
      "metadata": {
        "colab": {
          "base_uri": "https://localhost:8080/",
          "height": 35
        },
        "id": "_Xe7YY9BMoen",
        "outputId": "5e745398-7223-4609-9e51-7d85eab4b7c2"
      },
      "execution_count": null,
      "outputs": [
        {
          "output_type": "execute_result",
          "data": {
            "application/vnd.google.colaboratory.intrinsic+json": {
              "type": "string"
            },
            "text/plain": [
              "'!\"#$%&\\'()*+,-./:;<=>?@[\\\\]^_`{|}~'"
            ]
          },
          "metadata": {},
          "execution_count": 131
        }
      ]
    },
    {
      "cell_type": "code",
      "source": [
        "#defining the function to remove punctuation\n",
        "def remove_punctuation(text):\n",
        "    punctuationfree=\"\".join([i for i in text if i not in string.punctuation])\n",
        "    return punctuationfree\n",
        "#storing the puntuation free text\n",
        "test_df['clean_corpus']= test_df['corpus'].apply(lambda x:remove_punctuation(x))\n",
        "test_df.head()"
      ],
      "metadata": {
        "colab": {
          "base_uri": "https://localhost:8080/",
          "height": 143
        },
        "id": "ZCN7e6RPMqS1",
        "outputId": "d0a74330-e20a-47ef-cc45-993db49544fe"
      },
      "execution_count": null,
      "outputs": [
        {
          "output_type": "execute_result",
          "data": {
            "text/html": [
              "\n",
              "  <div id=\"df-b01290d2-d8c0-471b-9e38-ac3d7cc6a51b\">\n",
              "    <div class=\"colab-df-container\">\n",
              "      <div>\n",
              "<style scoped>\n",
              "    .dataframe tbody tr th:only-of-type {\n",
              "        vertical-align: middle;\n",
              "    }\n",
              "\n",
              "    .dataframe tbody tr th {\n",
              "        vertical-align: top;\n",
              "    }\n",
              "\n",
              "    .dataframe thead th {\n",
              "        text-align: right;\n",
              "    }\n",
              "</style>\n",
              "<table border=\"1\" class=\"dataframe\">\n",
              "  <thead>\n",
              "    <tr style=\"text-align: right;\">\n",
              "      <th></th>\n",
              "      <th>corpus</th>\n",
              "      <th>target</th>\n",
              "      <th>clean_corpus</th>\n",
              "    </tr>\n",
              "  </thead>\n",
              "  <tbody>\n",
              "    <tr>\n",
              "      <th>0</th>\n",
              "      <td>Thiruvananthapuram: The revenue collection in ...</td>\n",
              "      <td>0</td>\n",
              "      <td>Thiruvananthapuram The revenue collection in t...</td>\n",
              "    </tr>\n",
              "    <tr>\n",
              "      <th>1</th>\n",
              "      <td>Thiruvananthapuram: The revenue collection in ...</td>\n",
              "      <td>1</td>\n",
              "      <td>Thiruvananthapuram The revenue collection in t...</td>\n",
              "    </tr>\n",
              "    <tr>\n",
              "      <th>2</th>\n",
              "      <td>Thiruvananthapuram: The revenue collection in ...</td>\n",
              "      <td>2</td>\n",
              "      <td>Thiruvananthapuram The revenue collection in t...</td>\n",
              "    </tr>\n",
              "  </tbody>\n",
              "</table>\n",
              "</div>\n",
              "      <button class=\"colab-df-convert\" onclick=\"convertToInteractive('df-b01290d2-d8c0-471b-9e38-ac3d7cc6a51b')\"\n",
              "              title=\"Convert this dataframe to an interactive table.\"\n",
              "              style=\"display:none;\">\n",
              "        \n",
              "  <svg xmlns=\"http://www.w3.org/2000/svg\" height=\"24px\"viewBox=\"0 0 24 24\"\n",
              "       width=\"24px\">\n",
              "    <path d=\"M0 0h24v24H0V0z\" fill=\"none\"/>\n",
              "    <path d=\"M18.56 5.44l.94 2.06.94-2.06 2.06-.94-2.06-.94-.94-2.06-.94 2.06-2.06.94zm-11 1L8.5 8.5l.94-2.06 2.06-.94-2.06-.94L8.5 2.5l-.94 2.06-2.06.94zm10 10l.94 2.06.94-2.06 2.06-.94-2.06-.94-.94-2.06-.94 2.06-2.06.94z\"/><path d=\"M17.41 7.96l-1.37-1.37c-.4-.4-.92-.59-1.43-.59-.52 0-1.04.2-1.43.59L10.3 9.45l-7.72 7.72c-.78.78-.78 2.05 0 2.83L4 21.41c.39.39.9.59 1.41.59.51 0 1.02-.2 1.41-.59l7.78-7.78 2.81-2.81c.8-.78.8-2.07 0-2.86zM5.41 20L4 18.59l7.72-7.72 1.47 1.35L5.41 20z\"/>\n",
              "  </svg>\n",
              "      </button>\n",
              "      \n",
              "  <style>\n",
              "    .colab-df-container {\n",
              "      display:flex;\n",
              "      flex-wrap:wrap;\n",
              "      gap: 12px;\n",
              "    }\n",
              "\n",
              "    .colab-df-convert {\n",
              "      background-color: #E8F0FE;\n",
              "      border: none;\n",
              "      border-radius: 50%;\n",
              "      cursor: pointer;\n",
              "      display: none;\n",
              "      fill: #1967D2;\n",
              "      height: 32px;\n",
              "      padding: 0 0 0 0;\n",
              "      width: 32px;\n",
              "    }\n",
              "\n",
              "    .colab-df-convert:hover {\n",
              "      background-color: #E2EBFA;\n",
              "      box-shadow: 0px 1px 2px rgba(60, 64, 67, 0.3), 0px 1px 3px 1px rgba(60, 64, 67, 0.15);\n",
              "      fill: #174EA6;\n",
              "    }\n",
              "\n",
              "    [theme=dark] .colab-df-convert {\n",
              "      background-color: #3B4455;\n",
              "      fill: #D2E3FC;\n",
              "    }\n",
              "\n",
              "    [theme=dark] .colab-df-convert:hover {\n",
              "      background-color: #434B5C;\n",
              "      box-shadow: 0px 1px 3px 1px rgba(0, 0, 0, 0.15);\n",
              "      filter: drop-shadow(0px 1px 2px rgba(0, 0, 0, 0.3));\n",
              "      fill: #FFFFFF;\n",
              "    }\n",
              "  </style>\n",
              "\n",
              "      <script>\n",
              "        const buttonEl =\n",
              "          document.querySelector('#df-b01290d2-d8c0-471b-9e38-ac3d7cc6a51b button.colab-df-convert');\n",
              "        buttonEl.style.display =\n",
              "          google.colab.kernel.accessAllowed ? 'block' : 'none';\n",
              "\n",
              "        async function convertToInteractive(key) {\n",
              "          const element = document.querySelector('#df-b01290d2-d8c0-471b-9e38-ac3d7cc6a51b');\n",
              "          const dataTable =\n",
              "            await google.colab.kernel.invokeFunction('convertToInteractive',\n",
              "                                                     [key], {});\n",
              "          if (!dataTable) return;\n",
              "\n",
              "          const docLinkHtml = 'Like what you see? Visit the ' +\n",
              "            '<a target=\"_blank\" href=https://colab.research.google.com/notebooks/data_table.ipynb>data table notebook</a>'\n",
              "            + ' to learn more about interactive tables.';\n",
              "          element.innerHTML = '';\n",
              "          dataTable['output_type'] = 'display_data';\n",
              "          await google.colab.output.renderOutput(dataTable, element);\n",
              "          const docLink = document.createElement('div');\n",
              "          docLink.innerHTML = docLinkHtml;\n",
              "          element.appendChild(docLink);\n",
              "        }\n",
              "      </script>\n",
              "    </div>\n",
              "  </div>\n",
              "  "
            ],
            "text/plain": [
              "                                              corpus  ...                                       clean_corpus\n",
              "0  Thiruvananthapuram: The revenue collection in ...  ...  Thiruvananthapuram The revenue collection in t...\n",
              "1  Thiruvananthapuram: The revenue collection in ...  ...  Thiruvananthapuram The revenue collection in t...\n",
              "2  Thiruvananthapuram: The revenue collection in ...  ...  Thiruvananthapuram The revenue collection in t...\n",
              "\n",
              "[3 rows x 3 columns]"
            ]
          },
          "metadata": {},
          "execution_count": 132
        }
      ]
    },
    {
      "cell_type": "code",
      "source": [
        "test_df.corpus[2]"
      ],
      "metadata": {
        "colab": {
          "base_uri": "https://localhost:8080/",
          "height": 158
        },
        "id": "GBMTPIw5Nen2",
        "outputId": "35be5b6d-1a12-4d3a-fc3f-f2633d543abc"
      },
      "execution_count": null,
      "outputs": [
        {
          "output_type": "execute_result",
          "data": {
            "application/vnd.google.colaboratory.intrinsic+json": {
              "type": "string"
            },
            "text/plain": [
              "'Thiruvananthapuram: The revenue collection in the museum and zoo , which was badly hit by Covid-19, bounced back to normal with the authorities recording Rs 1 cr collection in two-and-a-half months.Peak turnout during the festive season brought good money for the museum and zoo as the daily collection, which hovered around Rs 1-2 lakh, jumped to Rs 4 lakhs towards the last week of December.\\nThe authorities recorded a cumulative collection of Rs 1.01 crore by the end of December.“In 2020, for an entire year we could collect only Rs 1.4 crore.\\nThis year, we crossed 1 crore in just around 50 days,” museum and zoo director said Abu S.The revenue collection from parking also increased considerably with many visitors opting for private vehicles and parking of vehicles on museum compounds yielded good revenue.\\nIn October last week, the daily collection from the art gallery, the museum and the zoo had picked up from Rs 64,310 to Rs 1,69,075 in less than a week.\\nThe museum was equipped with attractive and informative display systems and the project was completed at a cost of Rs 6 crore.'"
            ]
          },
          "metadata": {},
          "execution_count": 138
        }
      ]
    },
    {
      "cell_type": "code",
      "source": [
        "test_df.clean_corpus[2]"
      ],
      "metadata": {
        "colab": {
          "base_uri": "https://localhost:8080/",
          "height": 158
        },
        "id": "U-iWBz17NWnF",
        "outputId": "7766c93b-b6ca-46eb-96bb-2ab1a1b2ba8f"
      },
      "execution_count": null,
      "outputs": [
        {
          "output_type": "execute_result",
          "data": {
            "application/vnd.google.colaboratory.intrinsic+json": {
              "type": "string"
            },
            "text/plain": [
              "'Thiruvananthapuram The revenue collection in the museum and zoo  which was badly hit by Covid19 bounced back to normal with the authorities recording Rs 1 cr collection in twoandahalf monthsPeak turnout during the festive season brought good money for the museum and zoo as the daily collection which hovered around Rs 12 lakh jumped to Rs 4 lakhs towards the last week of December\\nThe authorities recorded a cumulative collection of Rs 101 crore by the end of December“In 2020 for an entire year we could collect only Rs 14 crore\\nThis year we crossed 1 crore in just around 50 days” museum and zoo director said Abu SThe revenue collection from parking also increased considerably with many visitors opting for private vehicles and parking of vehicles on museum compounds yielded good revenue\\nIn October last week the daily collection from the art gallery the museum and the zoo had picked up from Rs 64310 to Rs 169075 in less than a week\\nThe museum was equipped with attractive and informative display systems and the project was completed at a cost of Rs 6 crore'"
            ]
          },
          "metadata": {},
          "execution_count": 137
        }
      ]
    },
    {
      "cell_type": "code",
      "source": [
        "\n",
        "X_train, X_test, y_train, y_test = train_test_split(test_df.clean_corpus, test_df.target,\n",
        "                                                    test_size=1,)"
      ],
      "metadata": {
        "id": "LzqBN2T1rK2m"
      },
      "execution_count": null,
      "outputs": []
    },
    {
      "cell_type": "code",
      "source": [
        "## Suport Vector\n",
        "SVC_pipeline.fit(X_train, y_train)\n",
        "predictionSVC = SVC_pipeline.predict(X_test)\n",
        "print('Test accuracy is {}'.format(accuracy_score(y_test,predictionSVC)))\n",
        "print('\\nCONFUSION MATRIX')\n",
        "print(confusion_matrix(y_test, predictionSVC))\n",
        "print('\\nCLASSIFICATION REPORT')\n",
        "print(classification_report(y_test, predictionSVC))"
      ],
      "metadata": {
        "colab": {
          "base_uri": "https://localhost:8080/"
        },
        "id": "SCJnFwU0s9Dw",
        "outputId": "20e1045b-224d-4a54-bedf-522b6d2776a7"
      },
      "execution_count": null,
      "outputs": [
        {
          "output_type": "stream",
          "name": "stdout",
          "text": [
            "Test accuracy is 0.0\n",
            "\n",
            "CONFUSION MATRIX\n",
            "[[0 0]\n",
            " [1 0]]\n",
            "\n",
            "CLASSIFICATION REPORT\n",
            "              precision    recall  f1-score   support\n",
            "\n",
            "           1       0.00      0.00      0.00       0.0\n",
            "           2       0.00      0.00      0.00       1.0\n",
            "\n",
            "    accuracy                           0.00       1.0\n",
            "   macro avg       0.00      0.00      0.00       1.0\n",
            "weighted avg       0.00      0.00      0.00       1.0\n",
            "\n"
          ]
        },
        {
          "output_type": "stream",
          "name": "stderr",
          "text": [
            "/usr/local/lib/python3.7/dist-packages/sklearn/metrics/_classification.py:1308: UndefinedMetricWarning: Precision and F-score are ill-defined and being set to 0.0 in labels with no predicted samples. Use `zero_division` parameter to control this behavior.\n",
            "  _warn_prf(average, modifier, msg_start, len(result))\n",
            "/usr/local/lib/python3.7/dist-packages/sklearn/metrics/_classification.py:1308: UndefinedMetricWarning: Recall and F-score are ill-defined and being set to 0.0 in labels with no true samples. Use `zero_division` parameter to control this behavior.\n",
            "  _warn_prf(average, modifier, msg_start, len(result))\n",
            "/usr/local/lib/python3.7/dist-packages/sklearn/metrics/_classification.py:1308: UndefinedMetricWarning: Precision and F-score are ill-defined and being set to 0.0 in labels with no predicted samples. Use `zero_division` parameter to control this behavior.\n",
            "  _warn_prf(average, modifier, msg_start, len(result))\n",
            "/usr/local/lib/python3.7/dist-packages/sklearn/metrics/_classification.py:1308: UndefinedMetricWarning: Recall and F-score are ill-defined and being set to 0.0 in labels with no true samples. Use `zero_division` parameter to control this behavior.\n",
            "  _warn_prf(average, modifier, msg_start, len(result))\n",
            "/usr/local/lib/python3.7/dist-packages/sklearn/metrics/_classification.py:1308: UndefinedMetricWarning: Precision and F-score are ill-defined and being set to 0.0 in labels with no predicted samples. Use `zero_division` parameter to control this behavior.\n",
            "  _warn_prf(average, modifier, msg_start, len(result))\n",
            "/usr/local/lib/python3.7/dist-packages/sklearn/metrics/_classification.py:1308: UndefinedMetricWarning: Recall and F-score are ill-defined and being set to 0.0 in labels with no true samples. Use `zero_division` parameter to control this behavior.\n",
            "  _warn_prf(average, modifier, msg_start, len(result))\n"
          ]
        }
      ]
    },
    {
      "cell_type": "code",
      "source": [
        "predictionSVC"
      ],
      "metadata": {
        "colab": {
          "base_uri": "https://localhost:8080/"
        },
        "id": "gUTNJ_CMuI9d",
        "outputId": "2b57ef62-c335-472b-dae6-738b82ffcf6b"
      },
      "execution_count": null,
      "outputs": [
        {
          "output_type": "execute_result",
          "data": {
            "text/plain": [
              "array(['1'], dtype=object)"
            ]
          },
          "metadata": {},
          "execution_count": 135
        }
      ]
    },
    {
      "cell_type": "code",
      "source": [
        "X_test"
      ],
      "metadata": {
        "id": "-Y3-I0mCv2oa",
        "outputId": "4b9b6899-ac02-419c-e537-0fec5e043dd7",
        "colab": {
          "base_uri": "https://localhost:8080/"
        }
      },
      "execution_count": null,
      "outputs": [
        {
          "output_type": "execute_result",
          "data": {
            "text/plain": [
              "2    Thiruvananthapuram The revenue collection in t...\n",
              "Name: clean_corpus, dtype: object"
            ]
          },
          "metadata": {},
          "execution_count": 136
        }
      ]
    },
    {
      "cell_type": "code",
      "source": [
        "df1 = pd.read_csv('webdata.csv')"
      ],
      "metadata": {
        "id": "DJn2EHWV1HjY"
      },
      "execution_count": null,
      "outputs": []
    },
    {
      "cell_type": "code",
      "source": [
        "df1.head()"
      ],
      "metadata": {
        "colab": {
          "base_uri": "https://localhost:8080/",
          "height": 206
        },
        "id": "yvL5sn8EH0d6",
        "outputId": "cf34e544-d715-4937-80ec-d10173647ba7"
      },
      "execution_count": null,
      "outputs": [
        {
          "output_type": "execute_result",
          "data": {
            "text/html": [
              "\n",
              "  <div id=\"df-66e1faac-50fa-4173-807b-7e8943c1de14\">\n",
              "    <div class=\"colab-df-container\">\n",
              "      <div>\n",
              "<style scoped>\n",
              "    .dataframe tbody tr th:only-of-type {\n",
              "        vertical-align: middle;\n",
              "    }\n",
              "\n",
              "    .dataframe tbody tr th {\n",
              "        vertical-align: top;\n",
              "    }\n",
              "\n",
              "    .dataframe thead th {\n",
              "        text-align: right;\n",
              "    }\n",
              "</style>\n",
              "<table border=\"1\" class=\"dataframe\">\n",
              "  <thead>\n",
              "    <tr style=\"text-align: right;\">\n",
              "      <th></th>\n",
              "      <th>Number</th>\n",
              "      <th>Category</th>\n",
              "      <th>Content</th>\n",
              "    </tr>\n",
              "  </thead>\n",
              "  <tbody>\n",
              "    <tr>\n",
              "      <th>0</th>\n",
              "      <td>1</td>\n",
              "      <td>Animals</td>\n",
              "      <td>The world's last male white rhino is almost ce...</td>\n",
              "    </tr>\n",
              "    <tr>\n",
              "      <th>1</th>\n",
              "      <td>1</td>\n",
              "      <td>Animals</td>\n",
              "      <td>Animal welfare for travelers: How to enjoy wil...</td>\n",
              "    </tr>\n",
              "    <tr>\n",
              "      <th>2</th>\n",
              "      <td>1</td>\n",
              "      <td>Animals</td>\n",
              "      <td>New standards in animal welfare raise new issu...</td>\n",
              "    </tr>\n",
              "    <tr>\n",
              "      <th>3</th>\n",
              "      <td>1</td>\n",
              "      <td>Animals</td>\n",
              "      <td>Never mind CCTV in slaughterhouses - we need t...</td>\n",
              "    </tr>\n",
              "    <tr>\n",
              "      <th>4</th>\n",
              "      <td>1</td>\n",
              "      <td>Animals</td>\n",
              "      <td>China: Yulin Dog Meat Festival Canceled, Say A...</td>\n",
              "    </tr>\n",
              "  </tbody>\n",
              "</table>\n",
              "</div>\n",
              "      <button class=\"colab-df-convert\" onclick=\"convertToInteractive('df-66e1faac-50fa-4173-807b-7e8943c1de14')\"\n",
              "              title=\"Convert this dataframe to an interactive table.\"\n",
              "              style=\"display:none;\">\n",
              "        \n",
              "  <svg xmlns=\"http://www.w3.org/2000/svg\" height=\"24px\"viewBox=\"0 0 24 24\"\n",
              "       width=\"24px\">\n",
              "    <path d=\"M0 0h24v24H0V0z\" fill=\"none\"/>\n",
              "    <path d=\"M18.56 5.44l.94 2.06.94-2.06 2.06-.94-2.06-.94-.94-2.06-.94 2.06-2.06.94zm-11 1L8.5 8.5l.94-2.06 2.06-.94-2.06-.94L8.5 2.5l-.94 2.06-2.06.94zm10 10l.94 2.06.94-2.06 2.06-.94-2.06-.94-.94-2.06-.94 2.06-2.06.94z\"/><path d=\"M17.41 7.96l-1.37-1.37c-.4-.4-.92-.59-1.43-.59-.52 0-1.04.2-1.43.59L10.3 9.45l-7.72 7.72c-.78.78-.78 2.05 0 2.83L4 21.41c.39.39.9.59 1.41.59.51 0 1.02-.2 1.41-.59l7.78-7.78 2.81-2.81c.8-.78.8-2.07 0-2.86zM5.41 20L4 18.59l7.72-7.72 1.47 1.35L5.41 20z\"/>\n",
              "  </svg>\n",
              "      </button>\n",
              "      \n",
              "  <style>\n",
              "    .colab-df-container {\n",
              "      display:flex;\n",
              "      flex-wrap:wrap;\n",
              "      gap: 12px;\n",
              "    }\n",
              "\n",
              "    .colab-df-convert {\n",
              "      background-color: #E8F0FE;\n",
              "      border: none;\n",
              "      border-radius: 50%;\n",
              "      cursor: pointer;\n",
              "      display: none;\n",
              "      fill: #1967D2;\n",
              "      height: 32px;\n",
              "      padding: 0 0 0 0;\n",
              "      width: 32px;\n",
              "    }\n",
              "\n",
              "    .colab-df-convert:hover {\n",
              "      background-color: #E2EBFA;\n",
              "      box-shadow: 0px 1px 2px rgba(60, 64, 67, 0.3), 0px 1px 3px 1px rgba(60, 64, 67, 0.15);\n",
              "      fill: #174EA6;\n",
              "    }\n",
              "\n",
              "    [theme=dark] .colab-df-convert {\n",
              "      background-color: #3B4455;\n",
              "      fill: #D2E3FC;\n",
              "    }\n",
              "\n",
              "    [theme=dark] .colab-df-convert:hover {\n",
              "      background-color: #434B5C;\n",
              "      box-shadow: 0px 1px 3px 1px rgba(0, 0, 0, 0.15);\n",
              "      filter: drop-shadow(0px 1px 2px rgba(0, 0, 0, 0.3));\n",
              "      fill: #FFFFFF;\n",
              "    }\n",
              "  </style>\n",
              "\n",
              "      <script>\n",
              "        const buttonEl =\n",
              "          document.querySelector('#df-66e1faac-50fa-4173-807b-7e8943c1de14 button.colab-df-convert');\n",
              "        buttonEl.style.display =\n",
              "          google.colab.kernel.accessAllowed ? 'block' : 'none';\n",
              "\n",
              "        async function convertToInteractive(key) {\n",
              "          const element = document.querySelector('#df-66e1faac-50fa-4173-807b-7e8943c1de14');\n",
              "          const dataTable =\n",
              "            await google.colab.kernel.invokeFunction('convertToInteractive',\n",
              "                                                     [key], {});\n",
              "          if (!dataTable) return;\n",
              "\n",
              "          const docLinkHtml = 'Like what you see? Visit the ' +\n",
              "            '<a target=\"_blank\" href=https://colab.research.google.com/notebooks/data_table.ipynb>data table notebook</a>'\n",
              "            + ' to learn more about interactive tables.';\n",
              "          element.innerHTML = '';\n",
              "          dataTable['output_type'] = 'display_data';\n",
              "          await google.colab.output.renderOutput(dataTable, element);\n",
              "          const docLink = document.createElement('div');\n",
              "          docLink.innerHTML = docLinkHtml;\n",
              "          element.appendChild(docLink);\n",
              "        }\n",
              "      </script>\n",
              "    </div>\n",
              "  </div>\n",
              "  "
            ],
            "text/plain": [
              "   Number Category                                            Content\n",
              "0       1  Animals  The world's last male white rhino is almost ce...\n",
              "1       1  Animals  Animal welfare for travelers: How to enjoy wil...\n",
              "2       1  Animals  New standards in animal welfare raise new issu...\n",
              "3       1  Animals  Never mind CCTV in slaughterhouses - we need t...\n",
              "4       1  Animals  China: Yulin Dog Meat Festival Canceled, Say A..."
            ]
          },
          "metadata": {},
          "execution_count": 111
        }
      ]
    },
    {
      "cell_type": "code",
      "source": [
        "df1.Category[69]"
      ],
      "metadata": {
        "colab": {
          "base_uri": "https://localhost:8080/",
          "height": 35
        },
        "id": "h4PHM_3ZH2Au",
        "outputId": "2d387e42-1fac-4c15-f438-b8cddb31ca01"
      },
      "execution_count": null,
      "outputs": [
        {
          "output_type": "execute_result",
          "data": {
            "application/vnd.google.colaboratory.intrinsic+json": {
              "type": "string"
            },
            "text/plain": [
              "'Education'"
            ]
          },
          "metadata": {},
          "execution_count": 112
        }
      ]
    },
    {
      "cell_type": "code",
      "source": [
        "df1.Content[69]"
      ],
      "metadata": {
        "colab": {
          "base_uri": "https://localhost:8080/",
          "height": 227
        },
        "id": "YUDHwt__H43A",
        "outputId": "2db7d09a-3f82-44f7-ac78-4ce2c371a7fb"
      },
      "execution_count": null,
      "outputs": [
        {
          "output_type": "execute_result",
          "data": {
            "application/vnd.google.colaboratory.intrinsic+json": {
              "type": "string"
            },
            "text/plain": [
              "'Where College Students Can Find Emergency Money and HousingCollege students without a financial safety net are in a tough spot when unexpected costs arise.  \"The chances their parents can pick up the bill are not as high,\" says Sara Goldrick-Rab, a professor at Temple University in Philadelphia and founder of the Wisconsin HOPE Lab, a research center at the University of Wisconsin-Madison. \"It\\'s not for lack of families wanting to; they don\\'t have it.\"  A 2018 national survey led by Goldrick-Rab found that over a third of university students out of over 20,000 surveyed said they were food insecure, or had had limited or uncertain access to food in the previous 30 days. And 36 percent of those students said they were housing insecure in the last year, which means they had trouble paying housing bills or had to move frequently.  Recognizing that a financial crisis can force a student to withdraw from classes, about three-quarters of colleges and other postsecondary schools offer some kind of help, according to a 2016 survey of emergency college aid programs by the professional association NASPA-Student Affairs Administrators in Higher Education. Programs include loans and small cash grants, dining hall vouchers and food pantries, and scholarships to complete a semester.  The impact can be significant. \"We found that if you can alleviate their need in one place, it\\'s going to free up their finances to support other things like tuition, books, housing or rent,\" says Stan Jackson, director of student affairs communications and marketing initiatives at the University of Georgia in Athens, Georgia.'"
            ]
          },
          "metadata": {},
          "execution_count": 113
        }
      ]
    },
    {
      "cell_type": "code",
      "source": [
        "my_data1 = np.array([[df1.Content[69], '0'], [df1.Content[72], '1'], [df1.Content[76], '2']])\n",
        "test_column_names1 = ['corpus', 'target']\n",
        "test_df1 = pd.DataFrame(data=my_data1, columns=test_column_names1)\n",
        "print(test_df1)"
      ],
      "metadata": {
        "colab": {
          "base_uri": "https://localhost:8080/"
        },
        "id": "k_TWDb04IDWs",
        "outputId": "3ebd5e03-9b22-4a81-dc1b-f23fa51e89e7"
      },
      "execution_count": null,
      "outputs": [
        {
          "output_type": "stream",
          "name": "stdout",
          "text": [
            "                                              corpus target\n",
            "0  Where College Students Can Find Emergency Mone...      0\n",
            "1  Board of Education candidate Clare Weil: Educa...      1\n",
            "2  Our say: Community college scholarship program...      2\n"
          ]
        }
      ]
    },
    {
      "cell_type": "code",
      "source": [
        "X_train, X_test, y_train, y_test = train_test_split(test_df1.corpus, test_df1.target,\n",
        "                                                    test_size=1,)"
      ],
      "metadata": {
        "id": "jLOrLoAXIoYU"
      },
      "execution_count": null,
      "outputs": []
    },
    {
      "cell_type": "code",
      "source": [
        "SVC_pipeline.fit(X_train, y_train)\n",
        "predictionSVC = SVC_pipeline.predict(X_test)\n",
        "print('Test accuracy is {}'.format(accuracy_score(y_test,predictionSVC)))\n",
        "print('\\nCONFUSION MATRIX')\n",
        "print(confusion_matrix(y_test, predictionSVC))\n",
        "print('\\nCLASSIFICATION REPORT')\n",
        "print(classification_report(y_test, predictionSVC))"
      ],
      "metadata": {
        "colab": {
          "base_uri": "https://localhost:8080/"
        },
        "id": "FVmLhwjWIru7",
        "outputId": "8c4ce74a-6063-4384-f81f-e7dba36c41cb"
      },
      "execution_count": null,
      "outputs": [
        {
          "output_type": "stream",
          "name": "stdout",
          "text": [
            "Test accuracy is 0.0\n",
            "\n",
            "CONFUSION MATRIX\n",
            "[[0 1]\n",
            " [0 0]]\n",
            "\n",
            "CLASSIFICATION REPORT\n",
            "              precision    recall  f1-score   support\n",
            "\n",
            "           0       0.00      0.00      0.00       1.0\n",
            "           2       0.00      0.00      0.00       0.0\n",
            "\n",
            "    accuracy                           0.00       1.0\n",
            "   macro avg       0.00      0.00      0.00       1.0\n",
            "weighted avg       0.00      0.00      0.00       1.0\n",
            "\n"
          ]
        },
        {
          "output_type": "stream",
          "name": "stderr",
          "text": [
            "/usr/local/lib/python3.7/dist-packages/sklearn/metrics/_classification.py:1308: UndefinedMetricWarning: Precision and F-score are ill-defined and being set to 0.0 in labels with no predicted samples. Use `zero_division` parameter to control this behavior.\n",
            "  _warn_prf(average, modifier, msg_start, len(result))\n",
            "/usr/local/lib/python3.7/dist-packages/sklearn/metrics/_classification.py:1308: UndefinedMetricWarning: Recall and F-score are ill-defined and being set to 0.0 in labels with no true samples. Use `zero_division` parameter to control this behavior.\n",
            "  _warn_prf(average, modifier, msg_start, len(result))\n",
            "/usr/local/lib/python3.7/dist-packages/sklearn/metrics/_classification.py:1308: UndefinedMetricWarning: Precision and F-score are ill-defined and being set to 0.0 in labels with no predicted samples. Use `zero_division` parameter to control this behavior.\n",
            "  _warn_prf(average, modifier, msg_start, len(result))\n",
            "/usr/local/lib/python3.7/dist-packages/sklearn/metrics/_classification.py:1308: UndefinedMetricWarning: Recall and F-score are ill-defined and being set to 0.0 in labels with no true samples. Use `zero_division` parameter to control this behavior.\n",
            "  _warn_prf(average, modifier, msg_start, len(result))\n",
            "/usr/local/lib/python3.7/dist-packages/sklearn/metrics/_classification.py:1308: UndefinedMetricWarning: Precision and F-score are ill-defined and being set to 0.0 in labels with no predicted samples. Use `zero_division` parameter to control this behavior.\n",
            "  _warn_prf(average, modifier, msg_start, len(result))\n",
            "/usr/local/lib/python3.7/dist-packages/sklearn/metrics/_classification.py:1308: UndefinedMetricWarning: Recall and F-score are ill-defined and being set to 0.0 in labels with no true samples. Use `zero_division` parameter to control this behavior.\n",
            "  _warn_prf(average, modifier, msg_start, len(result))\n"
          ]
        }
      ]
    },
    {
      "cell_type": "code",
      "source": [
        "predictionSVC"
      ],
      "metadata": {
        "colab": {
          "base_uri": "https://localhost:8080/"
        },
        "id": "z2rzVMrIIx_z",
        "outputId": "69166de2-05f2-4767-a873-7c493fad3dae"
      },
      "execution_count": null,
      "outputs": [
        {
          "output_type": "execute_result",
          "data": {
            "text/plain": [
              "array(['2'], dtype=object)"
            ]
          },
          "metadata": {},
          "execution_count": 117
        }
      ]
    },
    {
      "cell_type": "markdown",
      "source": [
        "# Testing on random data\n",
        "\n",
        "> 1. Webdataset (200 points) \n",
        "2. Random link \n",
        "3. Real time \n",
        "\n",
        "\n"
      ],
      "metadata": {
        "id": "VOIqQedSzL_G"
      }
    },
    {
      "cell_type": "code",
      "source": [
        "import pandas\n",
        "# load the dataset\n",
        "dataset = pandas.read_csv('webdata.csv')\n",
        "dataset.head()"
      ],
      "metadata": {
        "colab": {
          "base_uri": "https://localhost:8080/",
          "height": 206
        },
        "id": "236GoLFGzWQA",
        "outputId": "d950581a-849c-481c-ab77-02682d012c5d"
      },
      "execution_count": 5,
      "outputs": [
        {
          "output_type": "execute_result",
          "data": {
            "text/html": [
              "\n",
              "  <div id=\"df-511b103f-c5d6-45e5-bbf1-de21eb5bea11\">\n",
              "    <div class=\"colab-df-container\">\n",
              "      <div>\n",
              "<style scoped>\n",
              "    .dataframe tbody tr th:only-of-type {\n",
              "        vertical-align: middle;\n",
              "    }\n",
              "\n",
              "    .dataframe tbody tr th {\n",
              "        vertical-align: top;\n",
              "    }\n",
              "\n",
              "    .dataframe thead th {\n",
              "        text-align: right;\n",
              "    }\n",
              "</style>\n",
              "<table border=\"1\" class=\"dataframe\">\n",
              "  <thead>\n",
              "    <tr style=\"text-align: right;\">\n",
              "      <th></th>\n",
              "      <th>Number</th>\n",
              "      <th>Category</th>\n",
              "      <th>Content</th>\n",
              "    </tr>\n",
              "  </thead>\n",
              "  <tbody>\n",
              "    <tr>\n",
              "      <th>0</th>\n",
              "      <td>1</td>\n",
              "      <td>Animals</td>\n",
              "      <td>The world's last male white rhino is almost ce...</td>\n",
              "    </tr>\n",
              "    <tr>\n",
              "      <th>1</th>\n",
              "      <td>1</td>\n",
              "      <td>Animals</td>\n",
              "      <td>Animal welfare for travelers: How to enjoy wil...</td>\n",
              "    </tr>\n",
              "    <tr>\n",
              "      <th>2</th>\n",
              "      <td>1</td>\n",
              "      <td>Animals</td>\n",
              "      <td>New standards in animal welfare raise new issu...</td>\n",
              "    </tr>\n",
              "    <tr>\n",
              "      <th>3</th>\n",
              "      <td>1</td>\n",
              "      <td>Animals</td>\n",
              "      <td>Never mind CCTV in slaughterhouses - we need t...</td>\n",
              "    </tr>\n",
              "    <tr>\n",
              "      <th>4</th>\n",
              "      <td>1</td>\n",
              "      <td>Animals</td>\n",
              "      <td>China: Yulin Dog Meat Festival Canceled, Say A...</td>\n",
              "    </tr>\n",
              "  </tbody>\n",
              "</table>\n",
              "</div>\n",
              "      <button class=\"colab-df-convert\" onclick=\"convertToInteractive('df-511b103f-c5d6-45e5-bbf1-de21eb5bea11')\"\n",
              "              title=\"Convert this dataframe to an interactive table.\"\n",
              "              style=\"display:none;\">\n",
              "        \n",
              "  <svg xmlns=\"http://www.w3.org/2000/svg\" height=\"24px\"viewBox=\"0 0 24 24\"\n",
              "       width=\"24px\">\n",
              "    <path d=\"M0 0h24v24H0V0z\" fill=\"none\"/>\n",
              "    <path d=\"M18.56 5.44l.94 2.06.94-2.06 2.06-.94-2.06-.94-.94-2.06-.94 2.06-2.06.94zm-11 1L8.5 8.5l.94-2.06 2.06-.94-2.06-.94L8.5 2.5l-.94 2.06-2.06.94zm10 10l.94 2.06.94-2.06 2.06-.94-2.06-.94-.94-2.06-.94 2.06-2.06.94z\"/><path d=\"M17.41 7.96l-1.37-1.37c-.4-.4-.92-.59-1.43-.59-.52 0-1.04.2-1.43.59L10.3 9.45l-7.72 7.72c-.78.78-.78 2.05 0 2.83L4 21.41c.39.39.9.59 1.41.59.51 0 1.02-.2 1.41-.59l7.78-7.78 2.81-2.81c.8-.78.8-2.07 0-2.86zM5.41 20L4 18.59l7.72-7.72 1.47 1.35L5.41 20z\"/>\n",
              "  </svg>\n",
              "      </button>\n",
              "      \n",
              "  <style>\n",
              "    .colab-df-container {\n",
              "      display:flex;\n",
              "      flex-wrap:wrap;\n",
              "      gap: 12px;\n",
              "    }\n",
              "\n",
              "    .colab-df-convert {\n",
              "      background-color: #E8F0FE;\n",
              "      border: none;\n",
              "      border-radius: 50%;\n",
              "      cursor: pointer;\n",
              "      display: none;\n",
              "      fill: #1967D2;\n",
              "      height: 32px;\n",
              "      padding: 0 0 0 0;\n",
              "      width: 32px;\n",
              "    }\n",
              "\n",
              "    .colab-df-convert:hover {\n",
              "      background-color: #E2EBFA;\n",
              "      box-shadow: 0px 1px 2px rgba(60, 64, 67, 0.3), 0px 1px 3px 1px rgba(60, 64, 67, 0.15);\n",
              "      fill: #174EA6;\n",
              "    }\n",
              "\n",
              "    [theme=dark] .colab-df-convert {\n",
              "      background-color: #3B4455;\n",
              "      fill: #D2E3FC;\n",
              "    }\n",
              "\n",
              "    [theme=dark] .colab-df-convert:hover {\n",
              "      background-color: #434B5C;\n",
              "      box-shadow: 0px 1px 3px 1px rgba(0, 0, 0, 0.15);\n",
              "      filter: drop-shadow(0px 1px 2px rgba(0, 0, 0, 0.3));\n",
              "      fill: #FFFFFF;\n",
              "    }\n",
              "  </style>\n",
              "\n",
              "      <script>\n",
              "        const buttonEl =\n",
              "          document.querySelector('#df-511b103f-c5d6-45e5-bbf1-de21eb5bea11 button.colab-df-convert');\n",
              "        buttonEl.style.display =\n",
              "          google.colab.kernel.accessAllowed ? 'block' : 'none';\n",
              "\n",
              "        async function convertToInteractive(key) {\n",
              "          const element = document.querySelector('#df-511b103f-c5d6-45e5-bbf1-de21eb5bea11');\n",
              "          const dataTable =\n",
              "            await google.colab.kernel.invokeFunction('convertToInteractive',\n",
              "                                                     [key], {});\n",
              "          if (!dataTable) return;\n",
              "\n",
              "          const docLinkHtml = 'Like what you see? Visit the ' +\n",
              "            '<a target=\"_blank\" href=https://colab.research.google.com/notebooks/data_table.ipynb>data table notebook</a>'\n",
              "            + ' to learn more about interactive tables.';\n",
              "          element.innerHTML = '';\n",
              "          dataTable['output_type'] = 'display_data';\n",
              "          await google.colab.output.renderOutput(dataTable, element);\n",
              "          const docLink = document.createElement('div');\n",
              "          docLink.innerHTML = docLinkHtml;\n",
              "          element.appendChild(docLink);\n",
              "        }\n",
              "      </script>\n",
              "    </div>\n",
              "  </div>\n",
              "  "
            ],
            "text/plain": [
              "   Number Category                                            Content\n",
              "0       1  Animals  The world's last male white rhino is almost ce...\n",
              "1       1  Animals  Animal welfare for travelers: How to enjoy wil...\n",
              "2       1  Animals  New standards in animal welfare raise new issu...\n",
              "3       1  Animals  Never mind CCTV in slaughterhouses - we need t...\n",
              "4       1  Animals  China: Yulin Dog Meat Festival Canceled, Say A..."
            ]
          },
          "metadata": {},
          "execution_count": 5
        }
      ]
    },
    {
      "cell_type": "code",
      "source": [
        "#Fetch wordcount for each abstract\n",
        "dataset['word_count'] = dataset['Content'].apply(lambda x: len(str(x).split(\" \")))\n",
        "dataset[['Content','word_count']].head()"
      ],
      "metadata": {
        "id": "fp3v_3P_z34H",
        "colab": {
          "base_uri": "https://localhost:8080/",
          "height": 206
        },
        "outputId": "dfcc0137-fa13-4c68-b82a-581f53db92cb"
      },
      "execution_count": 9,
      "outputs": [
        {
          "output_type": "execute_result",
          "data": {
            "text/html": [
              "\n",
              "  <div id=\"df-8802f5c1-2744-44d1-a5dd-ce1c3a846b74\">\n",
              "    <div class=\"colab-df-container\">\n",
              "      <div>\n",
              "<style scoped>\n",
              "    .dataframe tbody tr th:only-of-type {\n",
              "        vertical-align: middle;\n",
              "    }\n",
              "\n",
              "    .dataframe tbody tr th {\n",
              "        vertical-align: top;\n",
              "    }\n",
              "\n",
              "    .dataframe thead th {\n",
              "        text-align: right;\n",
              "    }\n",
              "</style>\n",
              "<table border=\"1\" class=\"dataframe\">\n",
              "  <thead>\n",
              "    <tr style=\"text-align: right;\">\n",
              "      <th></th>\n",
              "      <th>Content</th>\n",
              "      <th>word_count</th>\n",
              "    </tr>\n",
              "  </thead>\n",
              "  <tbody>\n",
              "    <tr>\n",
              "      <th>0</th>\n",
              "      <td>The world's last male white rhino is almost ce...</td>\n",
              "      <td>1390</td>\n",
              "    </tr>\n",
              "    <tr>\n",
              "      <th>1</th>\n",
              "      <td>Animal welfare for travelers: How to enjoy wil...</td>\n",
              "      <td>1147</td>\n",
              "    </tr>\n",
              "    <tr>\n",
              "      <th>2</th>\n",
              "      <td>New standards in animal welfare raise new issu...</td>\n",
              "      <td>1713</td>\n",
              "    </tr>\n",
              "    <tr>\n",
              "      <th>3</th>\n",
              "      <td>Never mind CCTV in slaughterhouses - we need t...</td>\n",
              "      <td>1450</td>\n",
              "    </tr>\n",
              "    <tr>\n",
              "      <th>4</th>\n",
              "      <td>China: Yulin Dog Meat Festival Canceled, Say A...</td>\n",
              "      <td>680</td>\n",
              "    </tr>\n",
              "  </tbody>\n",
              "</table>\n",
              "</div>\n",
              "      <button class=\"colab-df-convert\" onclick=\"convertToInteractive('df-8802f5c1-2744-44d1-a5dd-ce1c3a846b74')\"\n",
              "              title=\"Convert this dataframe to an interactive table.\"\n",
              "              style=\"display:none;\">\n",
              "        \n",
              "  <svg xmlns=\"http://www.w3.org/2000/svg\" height=\"24px\"viewBox=\"0 0 24 24\"\n",
              "       width=\"24px\">\n",
              "    <path d=\"M0 0h24v24H0V0z\" fill=\"none\"/>\n",
              "    <path d=\"M18.56 5.44l.94 2.06.94-2.06 2.06-.94-2.06-.94-.94-2.06-.94 2.06-2.06.94zm-11 1L8.5 8.5l.94-2.06 2.06-.94-2.06-.94L8.5 2.5l-.94 2.06-2.06.94zm10 10l.94 2.06.94-2.06 2.06-.94-2.06-.94-.94-2.06-.94 2.06-2.06.94z\"/><path d=\"M17.41 7.96l-1.37-1.37c-.4-.4-.92-.59-1.43-.59-.52 0-1.04.2-1.43.59L10.3 9.45l-7.72 7.72c-.78.78-.78 2.05 0 2.83L4 21.41c.39.39.9.59 1.41.59.51 0 1.02-.2 1.41-.59l7.78-7.78 2.81-2.81c.8-.78.8-2.07 0-2.86zM5.41 20L4 18.59l7.72-7.72 1.47 1.35L5.41 20z\"/>\n",
              "  </svg>\n",
              "      </button>\n",
              "      \n",
              "  <style>\n",
              "    .colab-df-container {\n",
              "      display:flex;\n",
              "      flex-wrap:wrap;\n",
              "      gap: 12px;\n",
              "    }\n",
              "\n",
              "    .colab-df-convert {\n",
              "      background-color: #E8F0FE;\n",
              "      border: none;\n",
              "      border-radius: 50%;\n",
              "      cursor: pointer;\n",
              "      display: none;\n",
              "      fill: #1967D2;\n",
              "      height: 32px;\n",
              "      padding: 0 0 0 0;\n",
              "      width: 32px;\n",
              "    }\n",
              "\n",
              "    .colab-df-convert:hover {\n",
              "      background-color: #E2EBFA;\n",
              "      box-shadow: 0px 1px 2px rgba(60, 64, 67, 0.3), 0px 1px 3px 1px rgba(60, 64, 67, 0.15);\n",
              "      fill: #174EA6;\n",
              "    }\n",
              "\n",
              "    [theme=dark] .colab-df-convert {\n",
              "      background-color: #3B4455;\n",
              "      fill: #D2E3FC;\n",
              "    }\n",
              "\n",
              "    [theme=dark] .colab-df-convert:hover {\n",
              "      background-color: #434B5C;\n",
              "      box-shadow: 0px 1px 3px 1px rgba(0, 0, 0, 0.15);\n",
              "      filter: drop-shadow(0px 1px 2px rgba(0, 0, 0, 0.3));\n",
              "      fill: #FFFFFF;\n",
              "    }\n",
              "  </style>\n",
              "\n",
              "      <script>\n",
              "        const buttonEl =\n",
              "          document.querySelector('#df-8802f5c1-2744-44d1-a5dd-ce1c3a846b74 button.colab-df-convert');\n",
              "        buttonEl.style.display =\n",
              "          google.colab.kernel.accessAllowed ? 'block' : 'none';\n",
              "\n",
              "        async function convertToInteractive(key) {\n",
              "          const element = document.querySelector('#df-8802f5c1-2744-44d1-a5dd-ce1c3a846b74');\n",
              "          const dataTable =\n",
              "            await google.colab.kernel.invokeFunction('convertToInteractive',\n",
              "                                                     [key], {});\n",
              "          if (!dataTable) return;\n",
              "\n",
              "          const docLinkHtml = 'Like what you see? Visit the ' +\n",
              "            '<a target=\"_blank\" href=https://colab.research.google.com/notebooks/data_table.ipynb>data table notebook</a>'\n",
              "            + ' to learn more about interactive tables.';\n",
              "          element.innerHTML = '';\n",
              "          dataTable['output_type'] = 'display_data';\n",
              "          await google.colab.output.renderOutput(dataTable, element);\n",
              "          const docLink = document.createElement('div');\n",
              "          docLink.innerHTML = docLinkHtml;\n",
              "          element.appendChild(docLink);\n",
              "        }\n",
              "      </script>\n",
              "    </div>\n",
              "  </div>\n",
              "  "
            ],
            "text/plain": [
              "                                             Content  word_count\n",
              "0  The world's last male white rhino is almost ce...        1390\n",
              "1  Animal welfare for travelers: How to enjoy wil...        1147\n",
              "2  New standards in animal welfare raise new issu...        1713\n",
              "3  Never mind CCTV in slaughterhouses - we need t...        1450\n",
              "4  China: Yulin Dog Meat Festival Canceled, Say A...         680"
            ]
          },
          "metadata": {},
          "execution_count": 9
        }
      ]
    },
    {
      "cell_type": "code",
      "source": [
        "##Descriptive statistics of word counts\n",
        "dataset.word_count.describe()"
      ],
      "metadata": {
        "id": "r-y9R0Cpz5Jx",
        "colab": {
          "base_uri": "https://localhost:8080/"
        },
        "outputId": "d840d05a-337f-4fde-fe75-973cd1c8c000"
      },
      "execution_count": 10,
      "outputs": [
        {
          "output_type": "execute_result",
          "data": {
            "text/plain": [
              "count     220.000000\n",
              "mean      751.122727\n",
              "std       472.000115\n",
              "min        29.000000\n",
              "25%       470.500000\n",
              "50%       672.500000\n",
              "75%      1000.250000\n",
              "max      2850.000000\n",
              "Name: word_count, dtype: float64"
            ]
          },
          "metadata": {},
          "execution_count": 10
        }
      ]
    },
    {
      "cell_type": "code",
      "source": [
        "#Identify common words\n",
        "freq = pandas.Series(' '.join(dataset['Content']).split()).value_counts()[:20]\n",
        "freq"
      ],
      "metadata": {
        "id": "qvRkaeRmz9J2",
        "colab": {
          "base_uri": "https://localhost:8080/"
        },
        "outputId": "6d90eb9c-63e1-4c1c-cfe5-dc2d2e910b65"
      },
      "execution_count": 12,
      "outputs": [
        {
          "output_type": "execute_result",
          "data": {
            "text/plain": [
              "the     7833\n",
              "and     4626\n",
              "of      4559\n",
              "to      4501\n",
              "a       3070\n",
              "in      3068\n",
              "for     1639\n",
              "that    1618\n",
              "is      1450\n",
              "on      1113\n",
              "The     1054\n",
              "are      943\n",
              "with     904\n",
              "as       859\n",
              "at       777\n",
              "by       712\n",
              "from     710\n",
              "have     691\n",
              "be       678\n",
              "was      625\n",
              "dtype: int64"
            ]
          },
          "metadata": {},
          "execution_count": 12
        }
      ]
    },
    {
      "cell_type": "code",
      "source": [
        "#Identify uncommon words\n",
        "freq1 =  pandas.Series(' '.join(dataset \n",
        "         ['Content']).split()).value_counts()[-20:]\n",
        "freq1"
      ],
      "metadata": {
        "id": "fHYlP1ba0A14",
        "colab": {
          "base_uri": "https://localhost:8080/"
        },
        "outputId": "b7449a2c-e652-4101-a5b2-6ff804d6e8ce"
      },
      "execution_count": 13,
      "outputs": [
        {
          "output_type": "execute_result",
          "data": {
            "text/plain": [
              "inimitable        1\n",
              "\"Freedom          1\n",
              "Coeli,            1\n",
              "Murphy/The        1\n",
              "Rachana           1\n",
              "provider.         1\n",
              "judgmental        1\n",
              "'comedian'        1\n",
              "Affairs),         1\n",
              "71                1\n",
              "parallel.         1\n",
              "freedoms          1\n",
              "alive,            1\n",
              "weaken            1\n",
              "raging            1\n",
              "two-week          1\n",
              "underground       1\n",
              "working-age       1\n",
              "Jaggar            1\n",
              "organization,\"    1\n",
              "dtype: int64"
            ]
          },
          "metadata": {},
          "execution_count": 13
        }
      ]
    },
    {
      "cell_type": "code",
      "source": [
        "import nltk\n",
        "nltk.download('wordnet')\n",
        "nltk.download('stopwords')"
      ],
      "metadata": {
        "colab": {
          "base_uri": "https://localhost:8080/"
        },
        "id": "f9MPaJ-J5urg",
        "outputId": "325f479d-2ad5-4130-9e9c-ce497f1ddd56"
      },
      "execution_count": 20,
      "outputs": [
        {
          "output_type": "stream",
          "name": "stdout",
          "text": [
            "[nltk_data] Downloading package wordnet to /root/nltk_data...\n",
            "[nltk_data]   Package wordnet is already up-to-date!\n",
            "[nltk_data] Downloading package stopwords to /root/nltk_data...\n",
            "[nltk_data]   Unzipping corpora/stopwords.zip.\n"
          ]
        },
        {
          "output_type": "execute_result",
          "data": {
            "text/plain": [
              "True"
            ]
          },
          "metadata": {},
          "execution_count": 20
        }
      ]
    },
    {
      "cell_type": "code",
      "source": [
        "from nltk.stem.porter import PorterStemmer\n",
        "from nltk.stem.wordnet import WordNetLemmatizer\n",
        "lem = WordNetLemmatizer()\n",
        "stem = PorterStemmer()\n",
        "word = \"inversely\"\n",
        "print(\"stemming:\",stem.stem(word))\n",
        "print(\"lemmatization:\", lem.lemmatize(word, \"v\"))"
      ],
      "metadata": {
        "id": "im-uDvBm0J2f",
        "colab": {
          "base_uri": "https://localhost:8080/"
        },
        "outputId": "4149a488-46d6-4e20-83c1-937558d9b485"
      },
      "execution_count": 17,
      "outputs": [
        {
          "output_type": "stream",
          "name": "stdout",
          "text": [
            "stemming: invers\n",
            "lemmatization: inversely\n"
          ]
        }
      ]
    },
    {
      "cell_type": "code",
      "source": [
        "# Libraries for text preprocessing\n",
        "import re\n",
        "import nltk\n",
        "#nltk.download('stopwords')\n",
        "from nltk.corpus import stopwords\n",
        "from nltk.stem.porter import PorterStemmer\n",
        "from nltk.tokenize import RegexpTokenizer\n",
        "#nltk.download('wordnet') \n",
        "from nltk.stem.wordnet import WordNetLemmatizer"
      ],
      "metadata": {
        "id": "PAPOtGoi0Ksq"
      },
      "execution_count": 23,
      "outputs": []
    },
    {
      "cell_type": "code",
      "source": [
        "##Creating a list of stop words and adding custom stopwords\n",
        "stop_words = set(stopwords.words(\"english\"))\n",
        "##Creating a list of custom stopwords\n",
        "new_words = [\"using\", \"show\", \"result\", \"large\", \"also\", \"iv\", \"one\", \"two\", \"new\", \"previously\", \"shown\"]\n",
        "stop_words = stop_words.union(new_words)"
      ],
      "metadata": {
        "id": "zrBp_4YH0O6Y"
      },
      "execution_count": 24,
      "outputs": []
    },
    {
      "cell_type": "code",
      "source": [
        "corpus = []\n",
        "for i in range(0, 200):\n",
        "    #Remove punctuations\n",
        "    text = re.sub('[^a-zA-Z]', ' ', dataset['Content'][i])\n",
        "    \n",
        "    #Convert to lowercase\n",
        "    text = text.lower()\n",
        "    \n",
        "    #remove tags\n",
        "    text=re.sub(\"&lt;/?.*?&gt;\",\" &lt;&gt; \",text)\n",
        "    \n",
        "    # remove special characters and digits\n",
        "    text=re.sub(\"(\\\\d|\\\\W)+\",\" \",text)\n",
        "    \n",
        "    ##Convert to list from string\n",
        "    text = text.split()\n",
        "    \n",
        "    ##Stemming\n",
        "    ps=PorterStemmer()\n",
        "    #Lemmatisation\n",
        "    lem = WordNetLemmatizer()\n",
        "    text = [lem.lemmatize(word) for word in text if not word in  \n",
        "            stop_words] \n",
        "    text = \" \".join(text)\n",
        "    corpus.append(text)"
      ],
      "metadata": {
        "id": "JYAnSI-F0TRG"
      },
      "execution_count": 43,
      "outputs": []
    },
    {
      "cell_type": "code",
      "source": [
        "#View corpus item\n",
        "corpus[3]"
      ],
      "metadata": {
        "id": "JcIZ9Jv_0UZ_",
        "colab": {
          "base_uri": "https://localhost:8080/",
          "height": 145
        },
        "outputId": "98c409a1-7464-4a2d-ebc0-51d75d488c04"
      },
      "execution_count": 44,
      "outputs": [
        {
          "output_type": "execute_result",
          "data": {
            "application/vnd.google.colaboratory.intrinsic+json": {
              "type": "string"
            },
            "text/plain": [
              "'never mind cctv slaughterhouse need end meat dairy industry altogetherit announced week slaughterhouse england install cctv camera government move try improve animal welfare uk farm lover animal think would thrilled news instead help continue wonder earth killing animal first place question whether caught camera went vegan half year ago much shock turkish family brought kofte like meatball et borek pastry meat inside homemade kebab grandparent grew small village cyprus could rarely afford luxury meat left war torn country uk worked year low paid job began eat meat dish meat luxury would choose give luxury let start obvious argument animal welfare measure put camera slaughterhouse might mean something process raising animal kill cruel government claim camera help uphold animal welfare law apparently protective law farm animal allowed overfed leg break carrying weight kept crammed shed barely seeing shred natural daylight life live knee deep faeces remains animal died around happens get slaughterhouse completely legal slaughterhouse animal lined killed often along moving conveyor belt pig animal solve puzzle emotional response thought smarter dog almost smart chimp often heard screaming strung leg watch pig since birth get tasered killed body sliced half middle mere centimetre away meet death cctv slaughterhouse cruelty dairy farm better baby cow separated mother within hour born human consume milk meant calf egg farm male chick killed day old gas chamber thrown grinder still conscious happens factory organic farm camera slaughterhouse effect human exist without taking another life would choose reason stop consuming animal product given nearly much attention global warming according un food agriculture organisation greenhouse gas producing livestock make per cent total global greenhouse gas emission transport combined including car bus boat even plane according nasa clearing land raise livestock leading cause deforestation literally destroying earth lung precious ecosystem raise farmed animal moreover study average amount water needed produce pound beef gallon compared pound soybean take gallon pound corn take gallon considering per cent people worldwide affected water scarcity trying produce food least water intensive way possible instead vast amount water land grow crop feed animal feed people eat crop water scarcity human cost eating animal week million egg recalled supermarket across globe fear contain hazardous substance fipronil eating meat put human risk disease like swine flu bird flu mad cow disease yet see outbreak lentil flu animal farming contributing growth disease like e coli mrsa helping develop resistance antibiotic nh warned antibiotic used farm animal saying threat human health inspiring vegan food blissful basil picture inspiring vegan food blissful basil picture blueberry muffin energy bite bright morning citrus salad carrot coriander bisque easy sunday evening chili hellooo world green smoothie classic spicy cauliflower rice roasted sweet potato avocado mash shaved jicama ceviche salad avocado seasonal fruit crisp apple almond blackberry sunflower perhaps important consideration complacent animal welfare people whose life affected daily living near working animal farm department health found living within metre intensive pig farm could exposed multi drug resistant organism air breathe pile animal manure left pit regularly run river cause oxygen depletion kill river life per cent nitrogen pollutes water eu come livestock european lung foundation found emission livestock farm cause asthma copd chronic obstructive pulmonary disease patient living nearby experience exacerbation living near livestock farm uk though dangerous u still health risk risk farm worker government introduction camera slaughterhouse part due fact much cruelty recorded inside charity animal aid secretly filmed inside uk slaughterhouse found evidence law breaking animal welfare breach website show undercover footage animal stamped slapped burned cigarette worker hacking throat conscious sheep lead people act way theresa may asked veganism question campaign trail month veganism read article man went vegan human right began read mental health effect working slaughterhouse may look hog eye walking around blood pit think god really bad looking animal may want pet pig kill floor come nuzzle like puppy minute later kill care word former slaughterhouse employee interview book slaughterhouse shocking story greed neglect inhumane treatment inside u meat industry gail eisnitz increasing case slaughterhouse worker treated ptsd well worker physical health high risk u study took data county found slaughterhouse introduced community violent sexual crime rate increased really surprise though worker forced kill hundred animal day become desensitised blood death suffer mental ill health sometimes even increasingly violent behaviour human job course fall predominantly immigrant community struggling find work elsewhere would chose work slaughterhouse grandparent might still recovering confusion going vegan young couple fleeing war nothing clothes back could easily ended slaughterhouse worker time abolish slaughterhouse animal farmed affected farming planet people particularly vulnerable'"
            ]
          },
          "metadata": {},
          "execution_count": 44
        }
      ]
    },
    {
      "cell_type": "markdown",
      "source": [
        "Data exploration"
      ],
      "metadata": {
        "id": "0CVWh1kp__QO"
      }
    },
    {
      "cell_type": "code",
      "source": [
        "#Word cloud\n",
        "from os import path\n",
        "from PIL import Image\n",
        "from wordcloud import WordCloud, STOPWORDS, ImageColorGenerator\n",
        "import matplotlib.pyplot as plt\n",
        "% matplotlib inline\n",
        "wordcloud = WordCloud(\n",
        "                          background_color='white',\n",
        "                          stopwords=stop_words,\n",
        "                          max_words=100,\n",
        "                          max_font_size=50, \n",
        "                          random_state=42\n",
        "                         ).generate(str(corpus))\n",
        "print(wordcloud)\n",
        "fig = plt.figure(1)\n",
        "plt.imshow(wordcloud)\n",
        "plt.axis('off')\n",
        "plt.show()\n",
        "fig.savefig(\"word1.png\", dpi=900)"
      ],
      "metadata": {
        "id": "XDKqHls20adj",
        "colab": {
          "base_uri": "https://localhost:8080/",
          "height": 216
        },
        "outputId": "98ace11e-3c3b-4183-ff10-8361da4f8cde"
      },
      "execution_count": 45,
      "outputs": [
        {
          "output_type": "stream",
          "name": "stdout",
          "text": [
            "<wordcloud.wordcloud.WordCloud object at 0x7f85587d4310>\n"
          ]
        },
        {
          "output_type": "display_data",
          "data": {
            "image/png": "[encoded data removed]",
            "text/plain": [
              "<Figure size 432x288 with 1 Axes>"
            ]
          },
          "metadata": {
            "needs_background": "light"
          }
        }
      ]
    },
    {
      "cell_type": "markdown",
      "source": [
        "Tokenisation is the process of converting the continuous text into a list of words. The list of words is then converted to a matrix of integers by the process of vectorisation. Vectorisation is also called feature extraction."
      ],
      "metadata": {
        "id": "Oxd7gX57ANG-"
      }
    },
    {
      "cell_type": "code",
      "source": [
        "from sklearn.feature_extraction.text import CountVectorizer\n",
        "import re\n",
        "cv=CountVectorizer(max_df=0.8,stop_words=stop_words, max_features=10000, ngram_range=(1,3))\n",
        "X=cv.fit_transform(corpus)"
      ],
      "metadata": {
        "id": "aRuHj3LI0bhm"
      },
      "execution_count": 48,
      "outputs": []
    },
    {
      "cell_type": "code",
      "source": [
        "list(cv.vocabulary_.keys())[:10]"
      ],
      "metadata": {
        "id": "6izk_SQw0eAd",
        "colab": {
          "base_uri": "https://localhost:8080/"
        },
        "outputId": "58ad377b-cf54-469a-d49e-6b2d465cb2f8"
      },
      "execution_count": 49,
      "outputs": [
        {
          "output_type": "execute_result",
          "data": {
            "text/plain": [
              "['world',\n",
              " 'last',\n",
              " 'male',\n",
              " 'white',\n",
              " 'rhino',\n",
              " 'almost',\n",
              " 'certain',\n",
              " 'never',\n",
              " 'hoped',\n",
              " 'artificial']"
            ]
          },
          "metadata": {},
          "execution_count": 49
        }
      ]
    },
    {
      "cell_type": "markdown",
      "source": [
        "Visualize top N uni-grams, bi-grams & tri-grams"
      ],
      "metadata": {
        "id": "xCXlSoWZAwvL"
      }
    },
    {
      "cell_type": "code",
      "source": [
        "#Most frequently occuring words\n",
        "def get_top_n_words(corpus, n=None):\n",
        "    vec = CountVectorizer().fit(corpus)\n",
        "    bag_of_words = vec.transform(corpus)\n",
        "    sum_words = bag_of_words.sum(axis=0) \n",
        "    words_freq = [(word, sum_words[0, idx]) for word, idx in      \n",
        "                   vec.vocabulary_.items()]\n",
        "    words_freq =sorted(words_freq, key = lambda x: x[1], \n",
        "                       reverse=True)\n",
        "    return words_freq[:n]\n",
        "#Convert most freq words to dataframe for plotting bar plot\n",
        "top_words = get_top_n_words(corpus, n=20)\n",
        "top_df = pandas.DataFrame(top_words)\n",
        "top_df.columns=[\"Word\", \"Freq\"]\n",
        "#Barplot of most freq words\n",
        "import seaborn as sns\n",
        "sns.set(rc={'figure.figsize':(13,8)})\n",
        "g = sns.barplot(x=\"Word\", y=\"Freq\", data=top_df)\n",
        "g.set_xticklabels(g.get_xticklabels(), rotation=30)\n"
      ],
      "metadata": {
        "id": "XMkr7PEW0gQ9",
        "colab": {
          "base_uri": "https://localhost:8080/",
          "height": 895
        },
        "outputId": "149b7678-a838-4772-af19-1e4cb15ab153"
      },
      "execution_count": 50,
      "outputs": [
        {
          "output_type": "execute_result",
          "data": {
            "text/plain": [
              "[Text(0, 0, 'said'),\n",
              " Text(0, 0, 'year'),\n",
              " Text(0, 0, 'people'),\n",
              " Text(0, 0, 'state'),\n",
              " Text(0, 0, 'time'),\n",
              " Text(0, 0, 'community'),\n",
              " Text(0, 0, 'right'),\n",
              " Text(0, 0, 'child'),\n",
              " Text(0, 0, 'say'),\n",
              " Text(0, 0, 'student'),\n",
              " Text(0, 0, 'percent'),\n",
              " Text(0, 0, 'program'),\n",
              " Text(0, 0, 'human'),\n",
              " Text(0, 0, 'school'),\n",
              " Text(0, 0, 'animal'),\n",
              " Text(0, 0, 'would'),\n",
              " Text(0, 0, 'health'),\n",
              " Text(0, 0, 'million'),\n",
              " Text(0, 0, 'many'),\n",
              " Text(0, 0, 'city')]"
            ]
          },
          "metadata": {},
          "execution_count": 50
        },
        {
          "output_type": "display_data",
          "data": {
            "image/png": "[encoded data removed]",
            "text/plain": [
              "<Figure size 936x576 with 1 Axes>"
            ]
          },
          "metadata": {}
        }
      ]
    },
    {
      "cell_type": "code",
      "source": [
        "#Most frequently occuring Bi-grams\n",
        "def get_top_n2_words(corpus, n=None):\n",
        "    vec1 = CountVectorizer(ngram_range=(2,2),  \n",
        "            max_features=2000).fit(corpus)\n",
        "    bag_of_words = vec1.transform(corpus)\n",
        "    sum_words = bag_of_words.sum(axis=0) \n",
        "    words_freq = [(word, sum_words[0, idx]) for word, idx in     \n",
        "                  vec1.vocabulary_.items()]\n",
        "    words_freq =sorted(words_freq, key = lambda x: x[1], \n",
        "                reverse=True)\n",
        "    return words_freq[:n]\n",
        "top2_words = get_top_n2_words(corpus, n=20)\n",
        "top2_df = pandas.DataFrame(top2_words)\n",
        "top2_df.columns=[\"Bi-gram\", \"Freq\"]\n",
        "print(top2_df)\n",
        "#Barplot of most freq Bi-grams\n",
        "import seaborn as sns\n",
        "sns.set(rc={'figure.figsize':(13,8)})\n",
        "h=sns.barplot(x=\"Bi-gram\", y=\"Freq\", data=top2_df)\n",
        "h.set_xticklabels(h.get_xticklabels(), rotation=45)"
      ],
      "metadata": {
        "id": "ULQokKYn0kxh",
        "colab": {
          "base_uri": "https://localhost:8080/",
          "height": 1000
        },
        "outputId": "044f2d8f-0a8b-49cf-9c59-482cb5abfb6f"
      },
      "execution_count": 51,
      "outputs": [
        {
          "output_type": "stream",
          "name": "stdout",
          "text": [
            "               Bi-gram  Freq\n",
            "0          human right   130\n",
            "1       climate change    70\n",
            "2         united state    66\n",
            "3           united way    48\n",
            "4            last year    47\n",
            "5   affordable housing    47\n",
            "6             year old    39\n",
            "7           child care    38\n",
            "8             year ago    34\n",
            "9      early childhood    33\n",
            "10       mental health    32\n",
            "11       united nation    32\n",
            "12           slot home    31\n",
            "13          low income    28\n",
            "14         white house    27\n",
            "15       human service    26\n",
            "16           long term    26\n",
            "17    health insurance    24\n",
            "18      northern white    23\n",
            "19         high school    23\n"
          ]
        },
        {
          "output_type": "execute_result",
          "data": {
            "text/plain": [
              "[Text(0, 0, 'human right'),\n",
              " Text(0, 0, 'climate change'),\n",
              " Text(0, 0, 'united state'),\n",
              " Text(0, 0, 'united way'),\n",
              " Text(0, 0, 'last year'),\n",
              " Text(0, 0, 'affordable housing'),\n",
              " Text(0, 0, 'year old'),\n",
              " Text(0, 0, 'child care'),\n",
              " Text(0, 0, 'year ago'),\n",
              " Text(0, 0, 'early childhood'),\n",
              " Text(0, 0, 'mental health'),\n",
              " Text(0, 0, 'united nation'),\n",
              " Text(0, 0, 'slot home'),\n",
              " Text(0, 0, 'low income'),\n",
              " Text(0, 0, 'white house'),\n",
              " Text(0, 0, 'human service'),\n",
              " Text(0, 0, 'long term'),\n",
              " Text(0, 0, 'health insurance'),\n",
              " Text(0, 0, 'northern white'),\n",
              " Text(0, 0, 'high school')]"
            ]
          },
          "metadata": {},
          "execution_count": 51
        },
        {
          "output_type": "display_data",
          "data": {
            "image/png": "[encoded data removed]",
            "text/plain": [
              "<Figure size 936x576 with 1 Axes>"
            ]
          },
          "metadata": {}
        }
      ]
    },
    {
      "cell_type": "code",
      "source": [
        "#Most frequently occuring Tri-grams\n",
        "def get_top_n3_words(corpus, n=None):\n",
        "    vec1 = CountVectorizer(ngram_range=(3,3), \n",
        "           max_features=2000).fit(corpus)\n",
        "    bag_of_words = vec1.transform(corpus)\n",
        "    sum_words = bag_of_words.sum(axis=0) \n",
        "    words_freq = [(word, sum_words[0, idx]) for word, idx in     \n",
        "                  vec1.vocabulary_.items()]\n",
        "    words_freq =sorted(words_freq, key = lambda x: x[1], \n",
        "                reverse=True)\n",
        "    return words_freq[:n]\n",
        "top3_words = get_top_n3_words(corpus, n=20)\n",
        "top3_df = pandas.DataFrame(top3_words)\n",
        "top3_df.columns=[\"Tri-gram\", \"Freq\"]\n",
        "print(top3_df)\n",
        "#Barplot of most freq Tri-grams\n",
        "import seaborn as sns\n",
        "sns.set(rc={'figure.figsize':(13,8)})\n",
        "j=sns.barplot(x=\"Tri-gram\", y=\"Freq\", data=top3_df)\n",
        "j.set_xticklabels(j.get_xticklabels(), rotation=45)"
      ],
      "metadata": {
        "id": "JeX-WIUi0ow3",
        "colab": {
          "base_uri": "https://localhost:8080/",
          "height": 1000
        },
        "outputId": "2cdfd7e2-e65c-41f3-c8a6-ccabf8e4d3d5"
      },
      "execution_count": 34,
      "outputs": [
        {
          "output_type": "stream",
          "name": "stdout",
          "text": [
            "                      Tri-gram  Freq\n",
            "0              may april march    19\n",
            "1         april march february    18\n",
            "2               june may april    18\n",
            "3       march february january    17\n",
            "4   november october september    16\n",
            "5         northern white rhino    15\n",
            "6     october september august    15\n",
            "7                july june may    15\n",
            "8         health human service    13\n",
            "9    county historical society    13\n",
            "10       september august july    13\n",
            "11            august july june    13\n",
            "12      president donald trump    12\n",
            "13   february january december    12\n",
            "14   january december november    12\n",
            "15   december november october    12\n",
            "16            latter day saint    12\n",
            "17            coal fired power    12\n",
            "18           fired power plant    12\n",
            "19            read share story    11\n"
          ]
        },
        {
          "output_type": "execute_result",
          "data": {
            "text/plain": [
              "[Text(0, 0, 'may april march'),\n",
              " Text(0, 0, 'april march february'),\n",
              " Text(0, 0, 'june may april'),\n",
              " Text(0, 0, 'march february january'),\n",
              " Text(0, 0, 'november october september'),\n",
              " Text(0, 0, 'northern white rhino'),\n",
              " Text(0, 0, 'october september august'),\n",
              " Text(0, 0, 'july june may'),\n",
              " Text(0, 0, 'health human service'),\n",
              " Text(0, 0, 'county historical society'),\n",
              " Text(0, 0, 'september august july'),\n",
              " Text(0, 0, 'august july june'),\n",
              " Text(0, 0, 'president donald trump'),\n",
              " Text(0, 0, 'february january december'),\n",
              " Text(0, 0, 'january december november'),\n",
              " Text(0, 0, 'december november october'),\n",
              " Text(0, 0, 'latter day saint'),\n",
              " Text(0, 0, 'coal fired power'),\n",
              " Text(0, 0, 'fired power plant'),\n",
              " Text(0, 0, 'read share story')]"
            ]
          },
          "metadata": {},
          "execution_count": 34
        },
        {
          "output_type": "display_data",
          "data": {
            "image/png": "[encoded data removed]",
            "text/plain": [
              "<Figure size 936x576 with 1 Axes>"
            ]
          },
          "metadata": {}
        }
      ]
    },
    {
      "cell_type": "markdown",
      "source": [
        "Converting to a matrix of integers (TF-IDF are word frequency scores that highlight words that are more important to the context rather than those that appear frequently across documents.)"
      ],
      "metadata": {
        "id": "7KNR899WA-HM"
      }
    },
    {
      "cell_type": "markdown",
      "source": [
        "Based on the TF-IDF scores, we can extract the words with the highest scores to get the keywords for a document."
      ],
      "metadata": {
        "id": "QL_K9OldBTQM"
      }
    },
    {
      "cell_type": "code",
      "source": [
        "from sklearn.feature_extraction.text import TfidfTransformer\n",
        " \n",
        "tfidf_transformer=TfidfTransformer(smooth_idf=True,use_idf=True)\n",
        "tfidf_transformer.fit(X)\n",
        "# get feature names\n",
        "feature_names=cv.get_feature_names()\n",
        " \n",
        "# fetch document for which keywords needs to be extracted\n",
        "doc=corpus[3]\n",
        " \n",
        "#generate tf-idf for the given document\n",
        "tf_idf_vector=tfidf_transformer.transform(cv.transform([doc]))"
      ],
      "metadata": {
        "id": "1Txks0rL0rdN",
        "colab": {
          "base_uri": "https://localhost:8080/"
        },
        "outputId": "664d8396-f2d5-473e-ac13-8246083d2ced"
      },
      "execution_count": 52,
      "outputs": [
        {
          "output_type": "stream",
          "name": "stderr",
          "text": [
            "/usr/local/lib/python3.7/dist-packages/sklearn/utils/deprecation.py:87: FutureWarning: Function get_feature_names is deprecated; get_feature_names is deprecated in 1.0 and will be removed in 1.2. Please use get_feature_names_out instead.\n",
            "  warnings.warn(msg, category=FutureWarning)\n"
          ]
        }
      ]
    },
    {
      "cell_type": "code",
      "source": [
        "#Function for sorting tf_idf in descending order\n",
        "from scipy.sparse import coo_matrix\n",
        "def sort_coo(coo_matrix):\n",
        "    tuples = zip(coo_matrix.col, coo_matrix.data)\n",
        "    return sorted(tuples, key=lambda x: (x[1], x[0]), reverse=True)\n",
        " \n",
        "def extract_topn_from_vector(feature_names, sorted_items, topn=10):\n",
        "    \"\"\"get the feature names and tf-idf score of top n items\"\"\"\n",
        "    \n",
        "    #use only topn items from vector\n",
        "    sorted_items = sorted_items[:topn]\n",
        " \n",
        "    score_vals = []\n",
        "    feature_vals = []\n",
        "    \n",
        "    # word index and corresponding tf-idf score\n",
        "    for idx, score in sorted_items:\n",
        "        \n",
        "        #keep track of feature name and its corresponding score\n",
        "        score_vals.append(round(score, 3))\n",
        "        feature_vals.append(feature_names[idx])\n",
        " \n",
        "    #create a tuples of feature,score\n",
        "    #results = zip(feature_vals,score_vals)\n",
        "    results= {}\n",
        "    for idx in range(len(feature_vals)):\n",
        "        results[feature_vals[idx]]=score_vals[idx]\n",
        "    \n",
        "    return results\n",
        "#sort the tf-idf vectors by descending order of scores\n",
        "sorted_items=sort_coo(tf_idf_vector.tocoo())\n",
        "#extract only the top n; n here is 10\n",
        "keywords=extract_topn_from_vector(feature_names,sorted_items,5)\n",
        " \n",
        "# now print the results\n",
        "print(\"\\nAbstract:\")\n",
        "print(doc)\n",
        "print(\"\\nKeywords:\")\n",
        "for k in keywords:\n",
        "    print(k,keywords[k])"
      ],
      "metadata": {
        "id": "D0yBoUSP0vMx",
        "colab": {
          "base_uri": "https://localhost:8080/"
        },
        "outputId": "e113e566-ef67-47e2-c82d-2d003e3535f4"
      },
      "execution_count": 40,
      "outputs": [
        {
          "output_type": "stream",
          "name": "stdout",
          "text": [
            "\n",
            "Abstract:\n",
            "never mind cctv slaughterhouse need end meat dairy industry altogetherit announced week slaughterhouse england install cctv camera government move try improve animal welfare uk farm lover animal think would thrilled news instead help continue wonder earth killing animal first place question whether caught camera went vegan half year ago much shock turkish family brought kofte like meatball et borek pastry meat inside homemade kebab grandparent grew small village cyprus could rarely afford luxury meat left war torn country uk worked year low paid job began eat meat dish meat luxury would choose give luxury let start obvious argument animal welfare measure put camera slaughterhouse might mean something process raising animal kill cruel government claim camera help uphold animal welfare law apparently protective law farm animal allowed overfed leg break carrying weight kept crammed shed barely seeing shred natural daylight life live knee deep faeces remains animal died around happens get slaughterhouse completely legal slaughterhouse animal lined killed often along moving conveyor belt pig animal solve puzzle emotional response thought smarter dog almost smart chimp often heard screaming strung leg watch pig since birth get tasered killed body sliced half middle mere centimetre away meet death cctv slaughterhouse cruelty dairy farm better baby cow separated mother within hour born human consume milk meant calf egg farm male chick killed day old gas chamber thrown grinder still conscious happens factory organic farm camera slaughterhouse effect human exist without taking another life would choose reason stop consuming animal product given nearly much attention global warming according un food agriculture organisation greenhouse gas producing livestock make per cent total global greenhouse gas emission transport combined including car bus boat even plane according nasa clearing land raise livestock leading cause deforestation literally destroying earth lung precious ecosystem raise farmed animal moreover study average amount water needed produce pound beef gallon compared pound soybean take gallon pound corn take gallon considering per cent people worldwide affected water scarcity trying produce food least water intensive way possible instead vast amount water land grow crop feed animal feed people eat crop water scarcity human cost eating animal week million egg recalled supermarket across globe fear contain hazardous substance fipronil eating meat put human risk disease like swine flu bird flu mad cow disease yet see outbreak lentil flu animal farming contributing growth disease like e coli mrsa helping develop resistance antibiotic nh warned antibiotic used farm animal saying threat human health inspiring vegan food blissful basil picture inspiring vegan food blissful basil picture blueberry muffin energy bite bright morning citrus salad carrot coriander bisque easy sunday evening chili hellooo world green smoothie classic spicy cauliflower rice roasted sweet potato avocado mash shaved jicama ceviche salad avocado seasonal fruit crisp apple almond blackberry sunflower perhaps important consideration complacent animal welfare people whose life affected daily living near working animal farm department health found living within metre intensive pig farm could exposed multi drug resistant organism air breathe pile animal manure left pit regularly run river cause oxygen depletion kill river life per cent nitrogen pollutes water eu come livestock european lung foundation found emission livestock farm cause asthma copd chronic obstructive pulmonary disease patient living nearby experience exacerbation living near livestock farm uk though dangerous u still health risk risk farm worker government introduction camera slaughterhouse part due fact much cruelty recorded inside charity animal aid secretly filmed inside uk slaughterhouse found evidence law breaking animal welfare breach website show undercover footage animal stamped slapped burned cigarette worker hacking throat conscious sheep lead people act way theresa may asked veganism question campaign trail month veganism read article man went vegan human right began read mental health effect working slaughterhouse may look hog eye walking around blood pit think god really bad looking animal may want pet pig kill floor come nuzzle like puppy minute later kill care word former slaughterhouse employee interview book slaughterhouse shocking story greed neglect inhumane treatment inside u meat industry gail eisnitz increasing case slaughterhouse worker treated ptsd well worker physical health high risk u study took data county found slaughterhouse introduced community violent sexual crime rate increased really surprise though worker forced kill hundred animal day become desensitised blood death suffer mental ill health sometimes even increasingly violent behaviour human job course fall predominantly immigrant community struggling find work elsewhere would chose work slaughterhouse grandparent might still recovering confusion going vegan young couple fleeing war nothing clothes back could easily ended slaughterhouse worker time abolish slaughterhouse animal farmed affected farming planet people particularly vulnerable\n",
            "\n",
            "Keywords:\n",
            "slaughterhouse 0.458\n",
            "animal 0.417\n",
            "farm 0.248\n",
            "meat 0.173\n",
            "vegan 0.142\n"
          ]
        }
      ]
    },
    {
      "cell_type": "code",
      "source": [
        ""
      ],
      "metadata": {
        "id": "fO0qPRBH00b2"
      },
      "execution_count": null,
      "outputs": []
    }
  ],
  "metadata": {
    "kernelspec": {
      "display_name": "Charity Evaluation",
      "language": "python",
      "name": "char-env"
    },
    "language_info": {
      "codemirror_mode": {
        "name": "ipython",
        "version": 3
      },
      "file_extension": ".py",
      "mimetype": "text/x-python",
      "name": "python",
      "nbconvert_exporter": "python",
      "pygments_lexer": "ipython3",
      "version": "3.7.3"
    },
    "toc-autonumbering": true,
    "colab": {
      "name": "Charity Evalution.ipynb.",
      "provenance": [],
      "collapsed_sections": [],
      "toc_visible": true,
      "include_colab_link": true
    }
  },
  "nbformat": 4,
  "nbformat_minor": 0
}